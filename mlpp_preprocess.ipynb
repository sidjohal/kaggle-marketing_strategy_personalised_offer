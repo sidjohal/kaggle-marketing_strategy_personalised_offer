{
 "cells": [
  {
   "cell_type": "markdown",
   "id": "3d7a22d0",
   "metadata": {
    "papermill": {
     "duration": 0.015365,
     "end_time": "2022-12-01T04:00:44.010367",
     "exception": false,
     "start_time": "2022-12-01T04:00:43.995002",
     "status": "completed"
    },
    "tags": []
   },
   "source": [
    "## Welcome\n",
    "    this version:\n",
    "    simpleimputer - most_frequent"
   ]
  },
  {
   "cell_type": "code",
   "execution_count": 1,
   "id": "c3585a74",
   "metadata": {
    "_cell_guid": "b1076dfc-b9ad-4769-8c92-a6c4dae69d19",
    "_uuid": "8f2839f25d086af736a60e9eeb907d3b93b6e0e5",
    "execution": {
     "iopub.execute_input": "2022-12-01T04:00:44.042006Z",
     "iopub.status.busy": "2022-12-01T04:00:44.041196Z",
     "iopub.status.idle": "2022-12-01T04:00:44.055061Z",
     "shell.execute_reply": "2022-12-01T04:00:44.053577Z"
    },
    "papermill": {
     "duration": 0.034268,
     "end_time": "2022-12-01T04:00:44.058607",
     "exception": false,
     "start_time": "2022-12-01T04:00:44.024339",
     "status": "completed"
    },
    "tags": []
   },
   "outputs": [
    {
     "name": "stdout",
     "output_type": "stream",
     "text": [
      "/kaggle/input/marketing-strategy-personalised-offer/sample.csv\n",
      "/kaggle/input/marketing-strategy-personalised-offer/train_data.csv\n",
      "/kaggle/input/marketing-strategy-personalised-offer/test_data.csv\n"
     ]
    }
   ],
   "source": [
    "import os\n",
    "for dirname, _, filenames in os.walk('/kaggle/input'):\n",
    "    for filename in filenames:\n",
    "        print(os.path.join(dirname, filename))"
   ]
  },
  {
   "cell_type": "code",
   "execution_count": 2,
   "id": "6c5ad730",
   "metadata": {
    "execution": {
     "iopub.execute_input": "2022-12-01T04:00:44.094824Z",
     "iopub.status.busy": "2022-12-01T04:00:44.093859Z",
     "iopub.status.idle": "2022-12-01T04:00:44.100574Z",
     "shell.execute_reply": "2022-12-01T04:00:44.099581Z"
    },
    "papermill": {
     "duration": 0.02946,
     "end_time": "2022-12-01T04:00:44.103831",
     "exception": false,
     "start_time": "2022-12-01T04:00:44.074371",
     "status": "completed"
    },
    "tags": []
   },
   "outputs": [],
   "source": [
    "import pandas as pd, numpy as np, matplotlib.pyplot as plt"
   ]
  },
  {
   "cell_type": "markdown",
   "id": "50e482ab",
   "metadata": {
    "papermill": {
     "duration": 0.020031,
     "end_time": "2022-12-01T04:00:44.143086",
     "exception": false,
     "start_time": "2022-12-01T04:00:44.123055",
     "status": "completed"
    },
    "tags": []
   },
   "source": [
    "# Basics"
   ]
  },
  {
   "cell_type": "code",
   "execution_count": 3,
   "id": "29d536a0",
   "metadata": {
    "execution": {
     "iopub.execute_input": "2022-12-01T04:00:44.184212Z",
     "iopub.status.busy": "2022-12-01T04:00:44.183111Z",
     "iopub.status.idle": "2022-12-01T04:00:44.298389Z",
     "shell.execute_reply": "2022-12-01T04:00:44.297209Z"
    },
    "papermill": {
     "duration": 0.140608,
     "end_time": "2022-12-01T04:00:44.301254",
     "exception": false,
     "start_time": "2022-12-01T04:00:44.160646",
     "status": "completed"
    },
    "tags": []
   },
   "outputs": [],
   "source": [
    "raw = pd.read_csv(\"/kaggle/input/marketing-strategy-personalised-offer/train_data.csv\")"
   ]
  },
  {
   "cell_type": "code",
   "execution_count": 4,
   "id": "0b882552",
   "metadata": {
    "execution": {
     "iopub.execute_input": "2022-12-01T04:00:44.330615Z",
     "iopub.status.busy": "2022-12-01T04:00:44.330220Z",
     "iopub.status.idle": "2022-12-01T04:00:44.335151Z",
     "shell.execute_reply": "2022-12-01T04:00:44.334247Z"
    },
    "papermill": {
     "duration": 0.022022,
     "end_time": "2022-12-01T04:00:44.337453",
     "exception": false,
     "start_time": "2022-12-01T04:00:44.315431",
     "status": "completed"
    },
    "tags": []
   },
   "outputs": [],
   "source": [
    "# custom functions\n",
    "\n",
    "def sortna(frame):\n",
    "    return frame.isna().sum().sort_values(ascending=False)"
   ]
  },
  {
   "cell_type": "code",
   "execution_count": null,
   "id": "31ae1ff0",
   "metadata": {
    "papermill": {
     "duration": 0.013225,
     "end_time": "2022-12-01T04:00:44.364665",
     "exception": false,
     "start_time": "2022-12-01T04:00:44.351440",
     "status": "completed"
    },
    "tags": []
   },
   "outputs": [],
   "source": []
  },
  {
   "cell_type": "markdown",
   "id": "00fb74eb",
   "metadata": {
    "papermill": {
     "duration": 0.013065,
     "end_time": "2022-12-01T04:00:44.391489",
     "exception": false,
     "start_time": "2022-12-01T04:00:44.378424",
     "status": "completed"
    },
    "tags": []
   },
   "source": [
    "## Data statistics"
   ]
  },
  {
   "cell_type": "code",
   "execution_count": 5,
   "id": "187b83b2",
   "metadata": {
    "execution": {
     "iopub.execute_input": "2022-12-01T04:00:44.421438Z",
     "iopub.status.busy": "2022-12-01T04:00:44.419976Z",
     "iopub.status.idle": "2022-12-01T04:00:44.438414Z",
     "shell.execute_reply": "2022-12-01T04:00:44.437482Z"
    },
    "papermill": {
     "duration": 0.035732,
     "end_time": "2022-12-01T04:00:44.440813",
     "exception": false,
     "start_time": "2022-12-01T04:00:44.405081",
     "status": "completed"
    },
    "tags": []
   },
   "outputs": [
    {
     "data": {
      "text/plain": [
       "((12379, 31),\n",
       " object    18\n",
       " int64     13\n",
       " dtype: int64)"
      ]
     },
     "execution_count": 5,
     "metadata": {},
     "output_type": "execute_result"
    }
   ],
   "source": [
    "raw.shape, raw.dtypes.sort_values().value_counts()"
   ]
  },
  {
   "cell_type": "code",
   "execution_count": 6,
   "id": "f34bff33",
   "metadata": {
    "execution": {
     "iopub.execute_input": "2022-12-01T04:00:44.473290Z",
     "iopub.status.busy": "2022-12-01T04:00:44.472642Z",
     "iopub.status.idle": "2022-12-01T04:00:44.500432Z",
     "shell.execute_reply": "2022-12-01T04:00:44.499060Z"
    },
    "papermill": {
     "duration": 0.049096,
     "end_time": "2022-12-01T04:00:44.503421",
     "exception": false,
     "start_time": "2022-12-01T04:00:44.454325",
     "status": "completed"
    },
    "tags": []
   },
   "outputs": [
    {
     "data": {
      "text/plain": [
       "car                                     12268\n",
       "no_visited_Cold drinks                    198\n",
       "Restaur_spend_greater_than20              160\n",
       "no_Take-aways                             144\n",
       "Restaur_spend_less_than20                 121\n",
       "no_visited_bars                            93\n",
       "drop location                               0\n",
       "Climate                                     0\n",
       "Travel Time                                 0\n",
       "is foodie                                   0\n",
       "temperature                                 0\n",
       "visit restaurant with rating (avg)          0\n",
       "has Children                                0\n",
       "Prefer home food                            0\n",
       "restuarant_opposite_direction_house         0\n",
       "Job/Job Industry                            0\n",
       "offer expiration                            0\n",
       "Cooks regularly                             0\n",
       "Qualification                               0\n",
       "Customer type                               0\n",
       "income_range                                0\n",
       "restuarant_same_direction_house             0\n",
       "gender                                      0\n",
       "travelled_more_than_5mins_for_offer         0\n",
       "travelled_more_than_25mins_for_offer        0\n",
       "Prefer western over chinese                 0\n",
       "age                                         0\n",
       "restaurant type                             0\n",
       "Marital Status                              0\n",
       "travelled_more_than_15mins_for_offer        0\n",
       "Offer Accepted                              0\n",
       "dtype: int64"
      ]
     },
     "execution_count": 6,
     "metadata": {},
     "output_type": "execute_result"
    }
   ],
   "source": [
    "raw.isna().sum().sort_values(ascending=False)"
   ]
  },
  {
   "cell_type": "code",
   "execution_count": 7,
   "id": "ef221e5b",
   "metadata": {
    "execution": {
     "iopub.execute_input": "2022-12-01T04:00:44.533321Z",
     "iopub.status.busy": "2022-12-01T04:00:44.532542Z",
     "iopub.status.idle": "2022-12-01T04:00:44.562661Z",
     "shell.execute_reply": "2022-12-01T04:00:44.561403Z"
    },
    "papermill": {
     "duration": 0.048337,
     "end_time": "2022-12-01T04:00:44.565754",
     "exception": false,
     "start_time": "2022-12-01T04:00:44.517417",
     "status": "completed"
    },
    "tags": []
   },
   "outputs": [
    {
     "data": {
      "text/plain": [
       "Cooks regularly                          int64\n",
       "Travel Time                              int64\n",
       "temperature                              int64\n",
       "visit restaurant with rating (avg)       int64\n",
       "has Children                             int64\n",
       "restuarant_opposite_direction_house      int64\n",
       "is foodie                                int64\n",
       "restuarant_same_direction_house          int64\n",
       "travelled_more_than_5mins_for_offer      int64\n",
       "Prefer home food                         int64\n",
       "Prefer western over chinese              int64\n",
       "travelled_more_than_15mins_for_offer     int64\n",
       "travelled_more_than_25mins_for_offer     int64\n",
       "Climate                                 object\n",
       "income_range                            object\n",
       "Restaur_spend_greater_than20            object\n",
       "no_visited_Cold drinks                  object\n",
       "Restaur_spend_less_than20               object\n",
       "Marital Status                          object\n",
       "Job/Job Industry                        object\n",
       "restaurant type                         object\n",
       "Qualification                           object\n",
       "Customer type                           object\n",
       "drop location                           object\n",
       "age                                     object\n",
       "gender                                  object\n",
       "no_visited_bars                         object\n",
       "no_Take-aways                           object\n",
       "offer expiration                        object\n",
       "dtype: object"
      ]
     },
     "execution_count": 7,
     "metadata": {},
     "output_type": "execute_result"
    }
   ],
   "source": [
    "data = raw.copy()\n",
    "\n",
    "data.drop('car', axis=1, inplace=True)\n",
    "features = data.drop('Offer Accepted', axis=1)\n",
    "labels = data[\"Offer Accepted\"].copy()\n",
    "features.dtypes.sort_values()"
   ]
  },
  {
   "cell_type": "code",
   "execution_count": 8,
   "id": "e7f670af",
   "metadata": {
    "execution": {
     "iopub.execute_input": "2022-12-01T04:00:44.597017Z",
     "iopub.status.busy": "2022-12-01T04:00:44.596519Z",
     "iopub.status.idle": "2022-12-01T04:00:44.608661Z",
     "shell.execute_reply": "2022-12-01T04:00:44.607621Z"
    },
    "papermill": {
     "duration": 0.029771,
     "end_time": "2022-12-01T04:00:44.610993",
     "exception": false,
     "start_time": "2022-12-01T04:00:44.581222",
     "status": "completed"
    },
    "tags": []
   },
   "outputs": [
    {
     "data": {
      "text/plain": [
       "True"
      ]
     },
     "execution_count": 8,
     "metadata": {},
     "output_type": "execute_result"
    }
   ],
   "source": [
    "dd = dict(features.dtypes.sort_values())\n",
    "numerical, categorical = [], []\n",
    "for i in dd.keys():\n",
    "    if (dd[i]=='int64'):\n",
    "        numerical.append(i)\n",
    "    elif (dd[i]=='O'):\n",
    "        categorical.append(i)\n",
    "\n",
    "len(categorical) + len(numerical) == len(list(features.columns))"
   ]
  },
  {
   "cell_type": "code",
   "execution_count": 9,
   "id": "0952861f",
   "metadata": {
    "execution": {
     "iopub.execute_input": "2022-12-01T04:00:44.641040Z",
     "iopub.status.busy": "2022-12-01T04:00:44.640659Z",
     "iopub.status.idle": "2022-12-01T04:00:44.660595Z",
     "shell.execute_reply": "2022-12-01T04:00:44.659352Z"
    },
    "papermill": {
     "duration": 0.037902,
     "end_time": "2022-12-01T04:00:44.663086",
     "exception": false,
     "start_time": "2022-12-01T04:00:44.625184",
     "status": "completed"
    },
    "tags": []
   },
   "outputs": [
    {
     "data": {
      "text/plain": [
       "no_visited_Cold drinks                  198\n",
       "Restaur_spend_greater_than20            160\n",
       "no_Take-aways                           144\n",
       "Restaur_spend_less_than20               121\n",
       "no_visited_bars                          93\n",
       "offer expiration                          0\n",
       "Qualification                             0\n",
       "drop location                             0\n",
       "Climate                                   0\n",
       "Travel Time                               0\n",
       "temperature                               0\n",
       "visit restaurant with rating (avg)        0\n",
       "has Children                              0\n",
       "restuarant_opposite_direction_house       0\n",
       "Job/Job Industry                          0\n",
       "is foodie                                 0\n",
       "Cooks regularly                           0\n",
       "Customer type                             0\n",
       "income_range                              0\n",
       "restuarant_same_direction_house           0\n",
       "gender                                    0\n",
       "travelled_more_than_5mins_for_offer       0\n",
       "travelled_more_than_25mins_for_offer      0\n",
       "Prefer western over chinese               0\n",
       "age                                       0\n",
       "restaurant type                           0\n",
       "Marital Status                            0\n",
       "travelled_more_than_15mins_for_offer      0\n",
       "Prefer home food                          0\n",
       "dtype: int64"
      ]
     },
     "execution_count": 9,
     "metadata": {},
     "output_type": "execute_result"
    }
   ],
   "source": [
    "features.isna().sum().sort_values(ascending=False)"
   ]
  },
  {
   "cell_type": "markdown",
   "id": "a0943e29",
   "metadata": {
    "papermill": {
     "duration": 0.015227,
     "end_time": "2022-12-01T04:00:44.692337",
     "exception": false,
     "start_time": "2022-12-01T04:00:44.677110",
     "status": "completed"
    },
    "tags": []
   },
   "source": [
    "* Features and labels have been split\n",
    "* Features have categorical and numerical values\n",
    "* Missing values are only in the categorical features\n",
    "    * Since feature 'car' has the NA values comparable to data, thus can be dropped"
   ]
  },
  {
   "cell_type": "code",
   "execution_count": 10,
   "id": "ddfda94a",
   "metadata": {
    "execution": {
     "iopub.execute_input": "2022-12-01T04:00:44.724477Z",
     "iopub.status.busy": "2022-12-01T04:00:44.723239Z",
     "iopub.status.idle": "2022-12-01T04:00:44.733823Z",
     "shell.execute_reply": "2022-12-01T04:00:44.732438Z"
    },
    "papermill": {
     "duration": 0.028178,
     "end_time": "2022-12-01T04:00:44.736057",
     "exception": false,
     "start_time": "2022-12-01T04:00:44.707879",
     "status": "completed"
    },
    "tags": []
   },
   "outputs": [
    {
     "data": {
      "text/plain": [
       "(object    16\n",
       " int64     13\n",
       " dtype: int64,\n",
       " array(['No', 'Yes'], dtype=object))"
      ]
     },
     "execution_count": 10,
     "metadata": {},
     "output_type": "execute_result"
    }
   ],
   "source": [
    "features.dtypes.value_counts(), labels.unique()"
   ]
  },
  {
   "cell_type": "code",
   "execution_count": null,
   "id": "964e3465",
   "metadata": {
    "papermill": {
     "duration": 0.014495,
     "end_time": "2022-12-01T04:00:44.764719",
     "exception": false,
     "start_time": "2022-12-01T04:00:44.750224",
     "status": "completed"
    },
    "tags": []
   },
   "outputs": [],
   "source": []
  },
  {
   "cell_type": "markdown",
   "id": "c9f8ed28",
   "metadata": {
    "papermill": {
     "duration": 0.013765,
     "end_time": "2022-12-01T04:00:44.792583",
     "exception": false,
     "start_time": "2022-12-01T04:00:44.778818",
     "status": "completed"
    },
    "tags": []
   },
   "source": [
    "# Data preprocessing"
   ]
  },
  {
   "cell_type": "markdown",
   "id": "9abd0ca4",
   "metadata": {
    "papermill": {
     "duration": 0.014872,
     "end_time": "2022-12-01T04:00:44.822243",
     "exception": false,
     "start_time": "2022-12-01T04:00:44.807371",
     "status": "completed"
    },
    "tags": []
   },
   "source": [
    "## Feature imputation"
   ]
  },
  {
   "cell_type": "code",
   "execution_count": 11,
   "id": "9058a390",
   "metadata": {
    "execution": {
     "iopub.execute_input": "2022-12-01T04:00:44.853666Z",
     "iopub.status.busy": "2022-12-01T04:00:44.853256Z",
     "iopub.status.idle": "2022-12-01T04:00:46.253462Z",
     "shell.execute_reply": "2022-12-01T04:00:46.252265Z"
    },
    "papermill": {
     "duration": 1.419486,
     "end_time": "2022-12-01T04:00:46.256347",
     "exception": false,
     "start_time": "2022-12-01T04:00:44.836861",
     "status": "completed"
    },
    "tags": []
   },
   "outputs": [],
   "source": [
    "from sklearn.impute import SimpleImputer"
   ]
  },
  {
   "cell_type": "code",
   "execution_count": 12,
   "id": "eb6eb124",
   "metadata": {
    "execution": {
     "iopub.execute_input": "2022-12-01T04:00:46.287986Z",
     "iopub.status.busy": "2022-12-01T04:00:46.287125Z",
     "iopub.status.idle": "2022-12-01T04:00:46.397978Z",
     "shell.execute_reply": "2022-12-01T04:00:46.396463Z"
    },
    "papermill": {
     "duration": 0.129669,
     "end_time": "2022-12-01T04:00:46.400636",
     "exception": false,
     "start_time": "2022-12-01T04:00:46.270967",
     "status": "completed"
    },
    "tags": []
   },
   "outputs": [
    {
     "name": "stdout",
     "output_type": "stream",
     "text": [
      "done\n"
     ]
    }
   ],
   "source": [
    "si = SimpleImputer(strategy=\"most_frequent\")\n",
    "features = pd.DataFrame(si.fit_transform(features), columns=[features.columns])\n",
    "print(\"done\")"
   ]
  },
  {
   "cell_type": "code",
   "execution_count": 13,
   "id": "eb362326",
   "metadata": {
    "execution": {
     "iopub.execute_input": "2022-12-01T04:00:46.432097Z",
     "iopub.status.busy": "2022-12-01T04:00:46.431703Z",
     "iopub.status.idle": "2022-12-01T04:00:46.457541Z",
     "shell.execute_reply": "2022-12-01T04:00:46.456520Z"
    },
    "papermill": {
     "duration": 0.044492,
     "end_time": "2022-12-01T04:00:46.460108",
     "exception": false,
     "start_time": "2022-12-01T04:00:46.415616",
     "status": "completed"
    },
    "tags": []
   },
   "outputs": [
    {
     "data": {
      "text/plain": [
       "offer expiration                        0\n",
       "income_range                            0\n",
       "no_visited_Cold drinks                  0\n",
       "travelled_more_than_15mins_for_offer    0\n",
       "Restaur_spend_less_than20               0\n",
       "Marital Status                          0\n",
       "restaurant type                         0\n",
       "age                                     0\n",
       "Prefer western over chinese             0\n",
       "travelled_more_than_25mins_for_offer    0\n",
       "travelled_more_than_5mins_for_offer     0\n",
       "no_visited_bars                         0\n",
       "gender                                  0\n",
       "restuarant_same_direction_house         0\n",
       "Cooks regularly                         0\n",
       "Customer type                           0\n",
       "Qualification                           0\n",
       "is foodie                               0\n",
       "no_Take-aways                           0\n",
       "Job/Job Industry                        0\n",
       "restuarant_opposite_direction_house     0\n",
       "has Children                            0\n",
       "visit restaurant with rating (avg)      0\n",
       "temperature                             0\n",
       "Restaur_spend_greater_than20            0\n",
       "Travel Time                             0\n",
       "Climate                                 0\n",
       "drop location                           0\n",
       "Prefer home food                        0\n",
       "dtype: int64"
      ]
     },
     "execution_count": 13,
     "metadata": {},
     "output_type": "execute_result"
    }
   ],
   "source": [
    "features.isna().sum()"
   ]
  },
  {
   "cell_type": "code",
   "execution_count": 14,
   "id": "11c64a70",
   "metadata": {
    "execution": {
     "iopub.execute_input": "2022-12-01T04:00:46.492444Z",
     "iopub.status.busy": "2022-12-01T04:00:46.491285Z",
     "iopub.status.idle": "2022-12-01T04:00:46.535404Z",
     "shell.execute_reply": "2022-12-01T04:00:46.534268Z"
    },
    "papermill": {
     "duration": 0.06401,
     "end_time": "2022-12-01T04:00:46.539120",
     "exception": false,
     "start_time": "2022-12-01T04:00:46.475110",
     "status": "completed"
    },
    "tags": []
   },
   "outputs": [
    {
     "name": "stdout",
     "output_type": "stream",
     "text": [
      "features dropped = 1\n"
     ]
    }
   ],
   "source": [
    "count=0\n",
    "for i in features.columns:\n",
    "    if (len(features[i].unique())==1):\n",
    "        features.drop(i, axis=1, inplace=True)\n",
    "        count+=1\n",
    "print(\"features dropped =\", count)"
   ]
  },
  {
   "cell_type": "markdown",
   "id": "ba8013c8",
   "metadata": {
    "papermill": {
     "duration": 0.014756,
     "end_time": "2022-12-01T04:00:46.569520",
     "exception": false,
     "start_time": "2022-12-01T04:00:46.554764",
     "status": "completed"
    },
    "tags": []
   },
   "source": [
    "**Features imputation done, now we can apply encoders**\n",
    "**Categorical features should be divided into ordinal and nominal and encoders should be applied accordingly**"
   ]
  },
  {
   "cell_type": "code",
   "execution_count": 15,
   "id": "37710528",
   "metadata": {
    "execution": {
     "iopub.execute_input": "2022-12-01T04:00:46.601742Z",
     "iopub.status.busy": "2022-12-01T04:00:46.601360Z",
     "iopub.status.idle": "2022-12-01T04:00:46.657116Z",
     "shell.execute_reply": "2022-12-01T04:00:46.655834Z"
    },
    "papermill": {
     "duration": 0.076063,
     "end_time": "2022-12-01T04:00:46.660264",
     "exception": false,
     "start_time": "2022-12-01T04:00:46.584201",
     "status": "completed"
    },
    "tags": []
   },
   "outputs": [
    {
     "data": {
      "text/html": [
       "<div>\n",
       "<style scoped>\n",
       "    .dataframe tbody tr th:only-of-type {\n",
       "        vertical-align: middle;\n",
       "    }\n",
       "\n",
       "    .dataframe tbody tr th {\n",
       "        vertical-align: top;\n",
       "    }\n",
       "\n",
       "    .dataframe thead th {\n",
       "        text-align: right;\n",
       "    }\n",
       "</style>\n",
       "<table border=\"1\" class=\"dataframe\">\n",
       "  <thead>\n",
       "    <tr style=\"text-align: right;\">\n",
       "      <th></th>\n",
       "      <th>columns</th>\n",
       "      <th>count of unique values</th>\n",
       "    </tr>\n",
       "  </thead>\n",
       "  <tbody>\n",
       "    <tr>\n",
       "      <th>0</th>\n",
       "      <td>(Climate,)</td>\n",
       "      <td>[Spring, Summer, Winter]</td>\n",
       "    </tr>\n",
       "    <tr>\n",
       "      <th>1</th>\n",
       "      <td>(income_range,)</td>\n",
       "      <td>[₹100000 or More, ₹87500 - ₹99999, ₹37500 - ₹4...</td>\n",
       "    </tr>\n",
       "    <tr>\n",
       "      <th>2</th>\n",
       "      <td>(Restaur_spend_greater_than20,)</td>\n",
       "      <td>[less1, 1~3, never, gt8, 4~8]</td>\n",
       "    </tr>\n",
       "    <tr>\n",
       "      <th>3</th>\n",
       "      <td>(no_visited_Cold drinks,)</td>\n",
       "      <td>[4~8, less1, never, 1~3, gt8]</td>\n",
       "    </tr>\n",
       "    <tr>\n",
       "      <th>4</th>\n",
       "      <td>(Restaur_spend_less_than20,)</td>\n",
       "      <td>[less1, 4~8, 1~3, gt8, never]</td>\n",
       "    </tr>\n",
       "    <tr>\n",
       "      <th>5</th>\n",
       "      <td>(Marital Status,)</td>\n",
       "      <td>[Married partner, Single, Divorced, Unmarried ...</td>\n",
       "    </tr>\n",
       "    <tr>\n",
       "      <th>6</th>\n",
       "      <td>(Job/Job Industry,)</td>\n",
       "      <td>[Unemployed, Arts Design Entertainment Sports ...</td>\n",
       "    </tr>\n",
       "    <tr>\n",
       "      <th>7</th>\n",
       "      <td>(restaurant type,)</td>\n",
       "      <td>[4 star restaurant, Take-away restaurant, Cold...</td>\n",
       "    </tr>\n",
       "    <tr>\n",
       "      <th>8</th>\n",
       "      <td>(Qualification,)</td>\n",
       "      <td>[Bachelors degree, Some college - no degree, G...</td>\n",
       "    </tr>\n",
       "    <tr>\n",
       "      <th>9</th>\n",
       "      <td>(Customer type,)</td>\n",
       "      <td>[Individual, With Family, With Kids, With Coll...</td>\n",
       "    </tr>\n",
       "    <tr>\n",
       "      <th>10</th>\n",
       "      <td>(drop location,)</td>\n",
       "      <td>[Location B, Location A, Location C]</td>\n",
       "    </tr>\n",
       "    <tr>\n",
       "      <th>11</th>\n",
       "      <td>(age,)</td>\n",
       "      <td>[36, 50plus, 26, 46, 21, below21, 41, 31]</td>\n",
       "    </tr>\n",
       "    <tr>\n",
       "      <th>12</th>\n",
       "      <td>(gender,)</td>\n",
       "      <td>[Female, Male]</td>\n",
       "    </tr>\n",
       "    <tr>\n",
       "      <th>13</th>\n",
       "      <td>(no_visited_bars,)</td>\n",
       "      <td>[less1, never, 1~3, 4~8, gt8]</td>\n",
       "    </tr>\n",
       "    <tr>\n",
       "      <th>14</th>\n",
       "      <td>(no_Take-aways,)</td>\n",
       "      <td>[1~3, gt8, 4~8, less1, never]</td>\n",
       "    </tr>\n",
       "    <tr>\n",
       "      <th>15</th>\n",
       "      <td>(offer expiration,)</td>\n",
       "      <td>[2days, 10hours]</td>\n",
       "    </tr>\n",
       "  </tbody>\n",
       "</table>\n",
       "</div>"
      ],
      "text/plain": [
       "                            columns  \\\n",
       "0                        (Climate,)   \n",
       "1                   (income_range,)   \n",
       "2   (Restaur_spend_greater_than20,)   \n",
       "3         (no_visited_Cold drinks,)   \n",
       "4      (Restaur_spend_less_than20,)   \n",
       "5                 (Marital Status,)   \n",
       "6               (Job/Job Industry,)   \n",
       "7                (restaurant type,)   \n",
       "8                  (Qualification,)   \n",
       "9                  (Customer type,)   \n",
       "10                 (drop location,)   \n",
       "11                           (age,)   \n",
       "12                        (gender,)   \n",
       "13               (no_visited_bars,)   \n",
       "14                 (no_Take-aways,)   \n",
       "15              (offer expiration,)   \n",
       "\n",
       "                               count of unique values  \n",
       "0                            [Spring, Summer, Winter]  \n",
       "1   [₹100000 or More, ₹87500 - ₹99999, ₹37500 - ₹4...  \n",
       "2                       [less1, 1~3, never, gt8, 4~8]  \n",
       "3                       [4~8, less1, never, 1~3, gt8]  \n",
       "4                       [less1, 4~8, 1~3, gt8, never]  \n",
       "5   [Married partner, Single, Divorced, Unmarried ...  \n",
       "6   [Unemployed, Arts Design Entertainment Sports ...  \n",
       "7   [4 star restaurant, Take-away restaurant, Cold...  \n",
       "8   [Bachelors degree, Some college - no degree, G...  \n",
       "9   [Individual, With Family, With Kids, With Coll...  \n",
       "10               [Location B, Location A, Location C]  \n",
       "11          [36, 50plus, 26, 46, 21, below21, 41, 31]  \n",
       "12                                     [Female, Male]  \n",
       "13                      [less1, never, 1~3, 4~8, gt8]  \n",
       "14                      [1~3, gt8, 4~8, less1, never]  \n",
       "15                                   [2days, 10hours]  "
      ]
     },
     "execution_count": 15,
     "metadata": {},
     "output_type": "execute_result"
    }
   ],
   "source": [
    "unique = {}\n",
    "for i in features[categorical]:\n",
    "    unique[i] = features[i].unique()\n",
    "    \n",
    "pd.DataFrame(data=unique.items(), columns=['columns', 'count of unique values'])"
   ]
  },
  {
   "cell_type": "code",
   "execution_count": 16,
   "id": "1967c3c6",
   "metadata": {
    "execution": {
     "iopub.execute_input": "2022-12-01T04:00:46.693768Z",
     "iopub.status.busy": "2022-12-01T04:00:46.693339Z",
     "iopub.status.idle": "2022-12-01T04:00:46.707511Z",
     "shell.execute_reply": "2022-12-01T04:00:46.706314Z"
    },
    "papermill": {
     "duration": 0.034137,
     "end_time": "2022-12-01T04:00:46.710065",
     "exception": false,
     "start_time": "2022-12-01T04:00:46.675928",
     "status": "completed"
    },
    "tags": []
   },
   "outputs": [
    {
     "data": {
      "text/plain": [
       "(age,) \n",
       "21         2602\n",
       "26         2543\n",
       "31         1929\n",
       "50plus     1756\n",
       "36         1259\n",
       "41         1060\n",
       "46          716\n",
       "below21     514\n",
       "dtype: int64"
      ]
     },
     "execution_count": 16,
     "metadata": {},
     "output_type": "execute_result"
    }
   ],
   "source": [
    "features['age'].value_counts()"
   ]
  },
  {
   "cell_type": "markdown",
   "id": "d9401dfb",
   "metadata": {
    "papermill": {
     "duration": 0.015047,
     "end_time": "2022-12-01T04:00:46.740890",
     "exception": false,
     "start_time": "2022-12-01T04:00:46.725843",
     "status": "completed"
    },
    "tags": []
   },
   "source": [
    "**We can group ages into bins of below 21, 21-50 and above 50**"
   ]
  },
  {
   "cell_type": "code",
   "execution_count": 17,
   "id": "5b27e97a",
   "metadata": {
    "execution": {
     "iopub.execute_input": "2022-12-01T04:00:46.773321Z",
     "iopub.status.busy": "2022-12-01T04:00:46.772862Z",
     "iopub.status.idle": "2022-12-01T04:01:00.784881Z",
     "shell.execute_reply": "2022-12-01T04:01:00.783791Z"
    },
    "papermill": {
     "duration": 14.031107,
     "end_time": "2022-12-01T04:01:00.787430",
     "exception": false,
     "start_time": "2022-12-01T04:00:46.756323",
     "status": "completed"
    },
    "tags": []
   },
   "outputs": [
    {
     "data": {
      "text/plain": [
       "(age,) \n",
       "21to50     10109\n",
       "50plus      1756\n",
       "below21      514\n",
       "dtype: int64"
      ]
     },
     "execution_count": 17,
     "metadata": {},
     "output_type": "execute_result"
    }
   ],
   "source": [
    "agebins = features['age'].copy()\n",
    "\n",
    "for i in range(len(agebins)):\n",
    "    x = (agebins.loc[i,'age'])[0]\n",
    "    if (x=='50plus' or x=='below21'):\n",
    "        pass\n",
    "    else:\n",
    "        agebins['age'].replace(x, '21to50', inplace=True)\n",
    "agebins['age'].value_counts()"
   ]
  },
  {
   "cell_type": "code",
   "execution_count": 18,
   "id": "5894f2a5",
   "metadata": {
    "execution": {
     "iopub.execute_input": "2022-12-01T04:01:00.821317Z",
     "iopub.status.busy": "2022-12-01T04:01:00.820880Z",
     "iopub.status.idle": "2022-12-01T04:01:00.858307Z",
     "shell.execute_reply": "2022-12-01T04:01:00.856598Z"
    },
    "papermill": {
     "duration": 0.058133,
     "end_time": "2022-12-01T04:01:00.861558",
     "exception": false,
     "start_time": "2022-12-01T04:01:00.803425",
     "status": "completed"
    },
    "tags": []
   },
   "outputs": [
    {
     "name": "stderr",
     "output_type": "stream",
     "text": [
      "/opt/conda/lib/python3.7/site-packages/pandas/core/generic.py:4150: PerformanceWarning: dropping on a non-lexsorted multi-index without a level parameter may impact performance.\n",
      "  obj = obj._drop_axis(labels, axis, level=level, errors=errors)\n"
     ]
    },
    {
     "data": {
      "text/plain": [
       "(age,) \n",
       "21to50     10109\n",
       "50plus      1756\n",
       "below21      514\n",
       "dtype: int64"
      ]
     },
     "execution_count": 18,
     "metadata": {},
     "output_type": "execute_result"
    }
   ],
   "source": [
    "features.drop('age', axis=1, inplace=True)\n",
    "features['age'] = agebins\n",
    "features['age'].value_counts()"
   ]
  },
  {
   "cell_type": "code",
   "execution_count": 19,
   "id": "914428bd",
   "metadata": {
    "execution": {
     "iopub.execute_input": "2022-12-01T04:01:00.895863Z",
     "iopub.status.busy": "2022-12-01T04:01:00.895413Z",
     "iopub.status.idle": "2022-12-01T04:01:00.934009Z",
     "shell.execute_reply": "2022-12-01T04:01:00.932817Z"
    },
    "papermill": {
     "duration": 0.058812,
     "end_time": "2022-12-01T04:01:00.936393",
     "exception": false,
     "start_time": "2022-12-01T04:01:00.877581",
     "status": "completed"
    },
    "tags": []
   },
   "outputs": [
    {
     "data": {
      "text/html": [
       "<div>\n",
       "<style scoped>\n",
       "    .dataframe tbody tr th:only-of-type {\n",
       "        vertical-align: middle;\n",
       "    }\n",
       "\n",
       "    .dataframe tbody tr th {\n",
       "        vertical-align: top;\n",
       "    }\n",
       "\n",
       "    .dataframe thead th {\n",
       "        text-align: right;\n",
       "    }\n",
       "</style>\n",
       "<table border=\"1\" class=\"dataframe\">\n",
       "  <thead>\n",
       "    <tr style=\"text-align: right;\">\n",
       "      <th></th>\n",
       "      <th>features</th>\n",
       "      <th>unique values</th>\n",
       "    </tr>\n",
       "  </thead>\n",
       "  <tbody>\n",
       "    <tr>\n",
       "      <th>0</th>\n",
       "      <td>Climate</td>\n",
       "      <td>[Spring, Summer, Winter]</td>\n",
       "    </tr>\n",
       "    <tr>\n",
       "      <th>1</th>\n",
       "      <td>income_range</td>\n",
       "      <td>[₹100000 or More, ₹87500 - ₹99999, ₹37500 - ₹4...</td>\n",
       "    </tr>\n",
       "    <tr>\n",
       "      <th>2</th>\n",
       "      <td>Restaur_spend_greater_than20</td>\n",
       "      <td>[less1, 1~3, never, gt8, 4~8]</td>\n",
       "    </tr>\n",
       "    <tr>\n",
       "      <th>3</th>\n",
       "      <td>no_visited_Cold drinks</td>\n",
       "      <td>[4~8, less1, never, 1~3, gt8]</td>\n",
       "    </tr>\n",
       "    <tr>\n",
       "      <th>4</th>\n",
       "      <td>Restaur_spend_less_than20</td>\n",
       "      <td>[less1, 4~8, 1~3, gt8, never]</td>\n",
       "    </tr>\n",
       "    <tr>\n",
       "      <th>5</th>\n",
       "      <td>Marital Status</td>\n",
       "      <td>[Married partner, Single, Divorced, Unmarried ...</td>\n",
       "    </tr>\n",
       "    <tr>\n",
       "      <th>6</th>\n",
       "      <td>Job/Job Industry</td>\n",
       "      <td>[Unemployed, Arts Design Entertainment Sports ...</td>\n",
       "    </tr>\n",
       "    <tr>\n",
       "      <th>7</th>\n",
       "      <td>restaurant type</td>\n",
       "      <td>[4 star restaurant, Take-away restaurant, Cold...</td>\n",
       "    </tr>\n",
       "    <tr>\n",
       "      <th>8</th>\n",
       "      <td>Qualification</td>\n",
       "      <td>[Bachelors degree, Some college - no degree, G...</td>\n",
       "    </tr>\n",
       "    <tr>\n",
       "      <th>9</th>\n",
       "      <td>Customer type</td>\n",
       "      <td>[Individual, With Family, With Kids, With Coll...</td>\n",
       "    </tr>\n",
       "    <tr>\n",
       "      <th>10</th>\n",
       "      <td>drop location</td>\n",
       "      <td>[Location B, Location A, Location C]</td>\n",
       "    </tr>\n",
       "    <tr>\n",
       "      <th>11</th>\n",
       "      <td>age</td>\n",
       "      <td>[21to50, 50plus, below21]</td>\n",
       "    </tr>\n",
       "    <tr>\n",
       "      <th>12</th>\n",
       "      <td>gender</td>\n",
       "      <td>[Female, Male]</td>\n",
       "    </tr>\n",
       "    <tr>\n",
       "      <th>13</th>\n",
       "      <td>no_visited_bars</td>\n",
       "      <td>[less1, never, 1~3, 4~8, gt8]</td>\n",
       "    </tr>\n",
       "    <tr>\n",
       "      <th>14</th>\n",
       "      <td>no_Take-aways</td>\n",
       "      <td>[1~3, gt8, 4~8, less1, never]</td>\n",
       "    </tr>\n",
       "    <tr>\n",
       "      <th>15</th>\n",
       "      <td>offer expiration</td>\n",
       "      <td>[2days, 10hours]</td>\n",
       "    </tr>\n",
       "  </tbody>\n",
       "</table>\n",
       "</div>"
      ],
      "text/plain": [
       "                        features  \\\n",
       "0                        Climate   \n",
       "1                   income_range   \n",
       "2   Restaur_spend_greater_than20   \n",
       "3         no_visited_Cold drinks   \n",
       "4      Restaur_spend_less_than20   \n",
       "5                 Marital Status   \n",
       "6               Job/Job Industry   \n",
       "7                restaurant type   \n",
       "8                  Qualification   \n",
       "9                  Customer type   \n",
       "10                 drop location   \n",
       "11                           age   \n",
       "12                        gender   \n",
       "13               no_visited_bars   \n",
       "14                 no_Take-aways   \n",
       "15              offer expiration   \n",
       "\n",
       "                                        unique values  \n",
       "0                            [Spring, Summer, Winter]  \n",
       "1   [₹100000 or More, ₹87500 - ₹99999, ₹37500 - ₹4...  \n",
       "2                       [less1, 1~3, never, gt8, 4~8]  \n",
       "3                       [4~8, less1, never, 1~3, gt8]  \n",
       "4                       [less1, 4~8, 1~3, gt8, never]  \n",
       "5   [Married partner, Single, Divorced, Unmarried ...  \n",
       "6   [Unemployed, Arts Design Entertainment Sports ...  \n",
       "7   [4 star restaurant, Take-away restaurant, Cold...  \n",
       "8   [Bachelors degree, Some college - no degree, G...  \n",
       "9   [Individual, With Family, With Kids, With Coll...  \n",
       "10               [Location B, Location A, Location C]  \n",
       "11                          [21to50, 50plus, below21]  \n",
       "12                                     [Female, Male]  \n",
       "13                      [less1, never, 1~3, 4~8, gt8]  \n",
       "14                      [1~3, gt8, 4~8, less1, never]  \n",
       "15                                   [2days, 10hours]  "
      ]
     },
     "execution_count": 19,
     "metadata": {},
     "output_type": "execute_result"
    }
   ],
   "source": [
    "nomord = {}\n",
    "for i in categorical:\n",
    "    nomord[i] = features[(i,)].unique()\n",
    "pd.DataFrame(nomord.items(), columns=['features', 'unique values'])"
   ]
  },
  {
   "cell_type": "markdown",
   "id": "1ce4c020",
   "metadata": {
    "papermill": {
     "duration": 0.01504,
     "end_time": "2022-12-01T04:01:00.966884",
     "exception": false,
     "start_time": "2022-12-01T04:01:00.951844",
     "status": "completed"
    },
    "tags": []
   },
   "source": [
    "**From above, we separate ordinal features for OrdinalEncoder and nominal features for OneHotEncoder**\n",
    "\n",
    "    Indices for \n",
    "        Ordinal = 1, 2, 3, 4, 8, 11, 13, 14, 15"
   ]
  },
  {
   "cell_type": "code",
   "execution_count": 20,
   "id": "15992e7a",
   "metadata": {
    "execution": {
     "iopub.execute_input": "2022-12-01T04:01:00.999868Z",
     "iopub.status.busy": "2022-12-01T04:01:00.999402Z",
     "iopub.status.idle": "2022-12-01T04:01:01.007807Z",
     "shell.execute_reply": "2022-12-01T04:01:01.006526Z"
    },
    "papermill": {
     "duration": 0.027819,
     "end_time": "2022-12-01T04:01:01.010168",
     "exception": false,
     "start_time": "2022-12-01T04:01:00.982349",
     "status": "completed"
    },
    "tags": []
   },
   "outputs": [
    {
     "data": {
      "text/plain": [
       "(9, 7)"
      ]
     },
     "execution_count": 20,
     "metadata": {},
     "output_type": "execute_result"
    }
   ],
   "source": [
    "ordinal = [categorical[i] for i in [1,2,3,4,8,11,13,14,15]]\n",
    "nominal = [i for i in categorical if i not in ordinal]\n",
    "len(ordinal), len(nominal)"
   ]
  },
  {
   "cell_type": "code",
   "execution_count": 21,
   "id": "f4f23cf7",
   "metadata": {
    "execution": {
     "iopub.execute_input": "2022-12-01T04:01:01.044077Z",
     "iopub.status.busy": "2022-12-01T04:01:01.043618Z",
     "iopub.status.idle": "2022-12-01T04:01:01.059350Z",
     "shell.execute_reply": "2022-12-01T04:01:01.057712Z"
    },
    "papermill": {
     "duration": 0.035237,
     "end_time": "2022-12-01T04:01:01.061803",
     "exception": false,
     "start_time": "2022-12-01T04:01:01.026566",
     "status": "completed"
    },
    "tags": []
   },
   "outputs": [
    {
     "name": "stdout",
     "output_type": "stream",
     "text": [
      "unique values in nominal features = 47\n"
     ]
    }
   ],
   "source": [
    "count = 0\n",
    "for i in nominal:\n",
    "    count += len(features[(i,)].unique())\n",
    "print(\"unique values in nominal features =\", count)"
   ]
  },
  {
   "cell_type": "markdown",
   "id": "5b63f4f2",
   "metadata": {
    "papermill": {
     "duration": 0.015192,
     "end_time": "2022-12-01T04:01:01.092787",
     "exception": false,
     "start_time": "2022-12-01T04:01:01.077595",
     "status": "completed"
    },
    "tags": []
   },
   "source": [
    "**47 unique columns from nominal features and 9 from ordinal features should finally give us 56 columns for categorical features**"
   ]
  },
  {
   "cell_type": "code",
   "execution_count": 22,
   "id": "e167d65f",
   "metadata": {
    "execution": {
     "iopub.execute_input": "2022-12-01T04:01:01.126339Z",
     "iopub.status.busy": "2022-12-01T04:01:01.125902Z",
     "iopub.status.idle": "2022-12-01T04:01:01.151590Z",
     "shell.execute_reply": "2022-12-01T04:01:01.150190Z"
    },
    "papermill": {
     "duration": 0.045723,
     "end_time": "2022-12-01T04:01:01.154195",
     "exception": false,
     "start_time": "2022-12-01T04:01:01.108472",
     "status": "completed"
    },
    "tags": []
   },
   "outputs": [
    {
     "data": {
      "text/html": [
       "<div>\n",
       "<style scoped>\n",
       "    .dataframe tbody tr th:only-of-type {\n",
       "        vertical-align: middle;\n",
       "    }\n",
       "\n",
       "    .dataframe tbody tr th {\n",
       "        vertical-align: top;\n",
       "    }\n",
       "\n",
       "    .dataframe thead th {\n",
       "        text-align: right;\n",
       "    }\n",
       "</style>\n",
       "<table border=\"1\" class=\"dataframe\">\n",
       "  <thead>\n",
       "    <tr style=\"text-align: right;\">\n",
       "      <th></th>\n",
       "      <th>features</th>\n",
       "      <th>unique values</th>\n",
       "    </tr>\n",
       "  </thead>\n",
       "  <tbody>\n",
       "    <tr>\n",
       "      <th>0</th>\n",
       "      <td>income_range</td>\n",
       "      <td>[₹100000 or More, ₹87500 - ₹99999, ₹37500 - ₹4...</td>\n",
       "    </tr>\n",
       "    <tr>\n",
       "      <th>1</th>\n",
       "      <td>Restaur_spend_greater_than20</td>\n",
       "      <td>[less1, 1~3, never, gt8, 4~8]</td>\n",
       "    </tr>\n",
       "    <tr>\n",
       "      <th>2</th>\n",
       "      <td>no_visited_Cold drinks</td>\n",
       "      <td>[4~8, less1, never, 1~3, gt8]</td>\n",
       "    </tr>\n",
       "    <tr>\n",
       "      <th>3</th>\n",
       "      <td>Restaur_spend_less_than20</td>\n",
       "      <td>[less1, 4~8, 1~3, gt8, never]</td>\n",
       "    </tr>\n",
       "    <tr>\n",
       "      <th>4</th>\n",
       "      <td>Qualification</td>\n",
       "      <td>[Bachelors degree, Some college - no degree, G...</td>\n",
       "    </tr>\n",
       "    <tr>\n",
       "      <th>5</th>\n",
       "      <td>age</td>\n",
       "      <td>[21to50, 50plus, below21]</td>\n",
       "    </tr>\n",
       "    <tr>\n",
       "      <th>6</th>\n",
       "      <td>no_visited_bars</td>\n",
       "      <td>[less1, never, 1~3, 4~8, gt8]</td>\n",
       "    </tr>\n",
       "    <tr>\n",
       "      <th>7</th>\n",
       "      <td>no_Take-aways</td>\n",
       "      <td>[1~3, gt8, 4~8, less1, never]</td>\n",
       "    </tr>\n",
       "    <tr>\n",
       "      <th>8</th>\n",
       "      <td>offer expiration</td>\n",
       "      <td>[2days, 10hours]</td>\n",
       "    </tr>\n",
       "  </tbody>\n",
       "</table>\n",
       "</div>"
      ],
      "text/plain": [
       "                       features  \\\n",
       "0                  income_range   \n",
       "1  Restaur_spend_greater_than20   \n",
       "2        no_visited_Cold drinks   \n",
       "3     Restaur_spend_less_than20   \n",
       "4                 Qualification   \n",
       "5                           age   \n",
       "6               no_visited_bars   \n",
       "7                 no_Take-aways   \n",
       "8              offer expiration   \n",
       "\n",
       "                                       unique values  \n",
       "0  [₹100000 or More, ₹87500 - ₹99999, ₹37500 - ₹4...  \n",
       "1                      [less1, 1~3, never, gt8, 4~8]  \n",
       "2                      [4~8, less1, never, 1~3, gt8]  \n",
       "3                      [less1, 4~8, 1~3, gt8, never]  \n",
       "4  [Bachelors degree, Some college - no degree, G...  \n",
       "5                          [21to50, 50plus, below21]  \n",
       "6                      [less1, never, 1~3, 4~8, gt8]  \n",
       "7                      [1~3, gt8, 4~8, less1, never]  \n",
       "8                                   [2days, 10hours]  "
      ]
     },
     "execution_count": 22,
     "metadata": {},
     "output_type": "execute_result"
    }
   ],
   "source": [
    "ord_cols = {}\n",
    "for i in ordinal:\n",
    "    ord_cols[i] = features[(i,)].unique()\n",
    "pd.DataFrame(ord_cols.items(), columns=['features', 'unique values'])"
   ]
  },
  {
   "cell_type": "markdown",
   "id": "0a44d6a8",
   "metadata": {
    "papermill": {
     "duration": 0.016516,
     "end_time": "2022-12-01T04:01:01.188026",
     "exception": false,
     "start_time": "2022-12-01T04:01:01.171510",
     "status": "completed"
    },
    "tags": []
   },
   "source": [
    "**Specifying categories for ordinal features for OrdinalEncoding**"
   ]
  },
  {
   "cell_type": "code",
   "execution_count": 23,
   "id": "52fbd8c6",
   "metadata": {
    "execution": {
     "iopub.execute_input": "2022-12-01T04:01:01.222397Z",
     "iopub.status.busy": "2022-12-01T04:01:01.221702Z",
     "iopub.status.idle": "2022-12-01T04:01:01.229408Z",
     "shell.execute_reply": "2022-12-01T04:01:01.227853Z"
    },
    "papermill": {
     "duration": 0.0281,
     "end_time": "2022-12-01T04:01:01.232198",
     "exception": false,
     "start_time": "2022-12-01T04:01:01.204098",
     "status": "completed"
    },
    "tags": []
   },
   "outputs": [],
   "source": [
    "ordd = {\n",
    "    'income_range': ['Less than ₹12500', '₹12500 - ₹24999', '₹25000 - ₹37499', '₹37500 - ₹49999', '₹50000 - ₹62499', '₹62500 - ₹74999', '₹75000 - ₹87499', '₹87500 - ₹99999', '₹100000 or More'],\n",
    "    'Restaur_spend_greater_than20': ['never', 'less1', '1~3', '4~8', 'gt8'],\n",
    "    'no_visited_Cold drinks': ['never', 'less1', '1~3', '4~8', 'gt8'],\n",
    "    'Restaur_spend_less_than20': ['never', 'less1', '1~3', '4~8', 'gt8'], \n",
    "    'age': ['below21', '21to50', '50plus'],\n",
    "    'no_visited_bars': ['never', 'less1', '1~3', '4~8', 'gt8'],\n",
    "    'no_Take-aways' : ['never', 'less1', '1~3', '4~8', 'gt8'],\n",
    "    'Qualification' : ['Some High School', 'High School Graduate', 'Associates degree', 'Some college - no degree', 'Bachelors degree', 'Graduate degree (Masters or Doctorate)'],\n",
    "    'offer expiration': ['2days', '10hours']\n",
    "}"
   ]
  },
  {
   "cell_type": "markdown",
   "id": "ecca03cc",
   "metadata": {
    "execution": {
     "iopub.execute_input": "2022-11-29T05:43:52.020461Z",
     "iopub.status.busy": "2022-11-29T05:43:52.020110Z",
     "iopub.status.idle": "2022-11-29T05:43:52.074455Z",
     "shell.execute_reply": "2022-11-29T05:43:52.073335Z",
     "shell.execute_reply.started": "2022-11-29T05:43:52.020437Z"
    },
    "papermill": {
     "duration": 0.015675,
     "end_time": "2022-12-01T04:01:01.263975",
     "exception": false,
     "start_time": "2022-12-01T04:01:01.248300",
     "status": "completed"
    },
    "tags": []
   },
   "source": [
    "## Categorical transformers"
   ]
  },
  {
   "cell_type": "code",
   "execution_count": 24,
   "id": "3b555fd1",
   "metadata": {
    "execution": {
     "iopub.execute_input": "2022-12-01T04:01:01.297688Z",
     "iopub.status.busy": "2022-12-01T04:01:01.297314Z",
     "iopub.status.idle": "2022-12-01T04:01:01.302186Z",
     "shell.execute_reply": "2022-12-01T04:01:01.300925Z"
    },
    "papermill": {
     "duration": 0.024611,
     "end_time": "2022-12-01T04:01:01.304467",
     "exception": false,
     "start_time": "2022-12-01T04:01:01.279856",
     "status": "completed"
    },
    "tags": []
   },
   "outputs": [],
   "source": [
    "from sklearn.preprocessing import OrdinalEncoder, OneHotEncoder"
   ]
  },
  {
   "cell_type": "code",
   "execution_count": 25,
   "id": "97d51347",
   "metadata": {
    "execution": {
     "iopub.execute_input": "2022-12-01T04:01:01.339419Z",
     "iopub.status.busy": "2022-12-01T04:01:01.338561Z",
     "iopub.status.idle": "2022-12-01T04:01:01.358471Z",
     "shell.execute_reply": "2022-12-01T04:01:01.357199Z"
    },
    "papermill": {
     "duration": 0.040511,
     "end_time": "2022-12-01T04:01:01.361232",
     "exception": false,
     "start_time": "2022-12-01T04:01:01.320721",
     "status": "completed"
    },
    "tags": []
   },
   "outputs": [
    {
     "data": {
      "text/html": [
       "<div>\n",
       "<style scoped>\n",
       "    .dataframe tbody tr th:only-of-type {\n",
       "        vertical-align: middle;\n",
       "    }\n",
       "\n",
       "    .dataframe tbody tr th {\n",
       "        vertical-align: top;\n",
       "    }\n",
       "\n",
       "    .dataframe thead tr th {\n",
       "        text-align: left;\n",
       "    }\n",
       "</style>\n",
       "<table border=\"1\" class=\"dataframe\">\n",
       "  <thead>\n",
       "    <tr>\n",
       "      <th></th>\n",
       "      <th>income_range</th>\n",
       "      <th>Restaur_spend_greater_than20</th>\n",
       "      <th>no_visited_Cold drinks</th>\n",
       "      <th>Restaur_spend_less_than20</th>\n",
       "      <th>Qualification</th>\n",
       "      <th>age</th>\n",
       "      <th>no_visited_bars</th>\n",
       "      <th>no_Take-aways</th>\n",
       "      <th>offer expiration</th>\n",
       "    </tr>\n",
       "  </thead>\n",
       "  <tbody>\n",
       "    <tr>\n",
       "      <th>0</th>\n",
       "      <td>₹100000 or More</td>\n",
       "      <td>less1</td>\n",
       "      <td>4~8</td>\n",
       "      <td>less1</td>\n",
       "      <td>Bachelors degree</td>\n",
       "      <td>21to50</td>\n",
       "      <td>less1</td>\n",
       "      <td>1~3</td>\n",
       "      <td>2days</td>\n",
       "    </tr>\n",
       "    <tr>\n",
       "      <th>1</th>\n",
       "      <td>₹87500 - ₹99999</td>\n",
       "      <td>1~3</td>\n",
       "      <td>4~8</td>\n",
       "      <td>4~8</td>\n",
       "      <td>Bachelors degree</td>\n",
       "      <td>50plus</td>\n",
       "      <td>never</td>\n",
       "      <td>1~3</td>\n",
       "      <td>2days</td>\n",
       "    </tr>\n",
       "    <tr>\n",
       "      <th>2</th>\n",
       "      <td>₹87500 - ₹99999</td>\n",
       "      <td>less1</td>\n",
       "      <td>less1</td>\n",
       "      <td>1~3</td>\n",
       "      <td>Bachelors degree</td>\n",
       "      <td>21to50</td>\n",
       "      <td>never</td>\n",
       "      <td>1~3</td>\n",
       "      <td>2days</td>\n",
       "    </tr>\n",
       "    <tr>\n",
       "      <th>3</th>\n",
       "      <td>₹37500 - ₹49999</td>\n",
       "      <td>1~3</td>\n",
       "      <td>less1</td>\n",
       "      <td>1~3</td>\n",
       "      <td>Some college - no degree</td>\n",
       "      <td>21to50</td>\n",
       "      <td>never</td>\n",
       "      <td>1~3</td>\n",
       "      <td>10hours</td>\n",
       "    </tr>\n",
       "    <tr>\n",
       "      <th>4</th>\n",
       "      <td>₹100000 or More</td>\n",
       "      <td>less1</td>\n",
       "      <td>never</td>\n",
       "      <td>1~3</td>\n",
       "      <td>Some college - no degree</td>\n",
       "      <td>21to50</td>\n",
       "      <td>less1</td>\n",
       "      <td>gt8</td>\n",
       "      <td>2days</td>\n",
       "    </tr>\n",
       "  </tbody>\n",
       "</table>\n",
       "</div>"
      ],
      "text/plain": [
       "      income_range Restaur_spend_greater_than20 no_visited_Cold drinks  \\\n",
       "0  ₹100000 or More                        less1                    4~8   \n",
       "1  ₹87500 - ₹99999                          1~3                    4~8   \n",
       "2  ₹87500 - ₹99999                        less1                  less1   \n",
       "3  ₹37500 - ₹49999                          1~3                  less1   \n",
       "4  ₹100000 or More                        less1                  never   \n",
       "\n",
       "  Restaur_spend_less_than20             Qualification     age no_visited_bars  \\\n",
       "0                     less1          Bachelors degree  21to50           less1   \n",
       "1                       4~8          Bachelors degree  50plus           never   \n",
       "2                       1~3          Bachelors degree  21to50           never   \n",
       "3                       1~3  Some college - no degree  21to50           never   \n",
       "4                       1~3  Some college - no degree  21to50           less1   \n",
       "\n",
       "  no_Take-aways offer expiration  \n",
       "0           1~3            2days  \n",
       "1           1~3            2days  \n",
       "2           1~3            2days  \n",
       "3           1~3          10hours  \n",
       "4           gt8            2days  "
      ]
     },
     "execution_count": 25,
     "metadata": {},
     "output_type": "execute_result"
    }
   ],
   "source": [
    "ordinaldf = features[ordinal].copy()\n",
    "ordinaldf.head()"
   ]
  },
  {
   "cell_type": "code",
   "execution_count": 26,
   "id": "bed34b7f",
   "metadata": {
    "execution": {
     "iopub.execute_input": "2022-12-01T04:01:01.396727Z",
     "iopub.status.busy": "2022-12-01T04:01:01.396216Z",
     "iopub.status.idle": "2022-12-01T04:01:01.472410Z",
     "shell.execute_reply": "2022-12-01T04:01:01.470498Z"
    },
    "papermill": {
     "duration": 0.097264,
     "end_time": "2022-12-01T04:01:01.475183",
     "exception": false,
     "start_time": "2022-12-01T04:01:01.377919",
     "status": "completed"
    },
    "tags": []
   },
   "outputs": [
    {
     "name": "stderr",
     "output_type": "stream",
     "text": [
      "/opt/conda/lib/python3.7/site-packages/sklearn/utils/validation.py:1692: FutureWarning: Feature names only support names that are all strings. Got feature names with dtypes: ['tuple']. An error will be raised in 1.2.\n",
      "  FutureWarning,\n",
      "/opt/conda/lib/python3.7/site-packages/sklearn/utils/validation.py:1692: FutureWarning: Feature names only support names that are all strings. Got feature names with dtypes: ['tuple']. An error will be raised in 1.2.\n",
      "  FutureWarning,\n",
      "/opt/conda/lib/python3.7/site-packages/sklearn/utils/validation.py:1692: FutureWarning: Feature names only support names that are all strings. Got feature names with dtypes: ['tuple']. An error will be raised in 1.2.\n",
      "  FutureWarning,\n",
      "/opt/conda/lib/python3.7/site-packages/sklearn/utils/validation.py:1692: FutureWarning: Feature names only support names that are all strings. Got feature names with dtypes: ['tuple']. An error will be raised in 1.2.\n",
      "  FutureWarning,\n",
      "/opt/conda/lib/python3.7/site-packages/sklearn/utils/validation.py:1692: FutureWarning: Feature names only support names that are all strings. Got feature names with dtypes: ['tuple']. An error will be raised in 1.2.\n",
      "  FutureWarning,\n",
      "/opt/conda/lib/python3.7/site-packages/sklearn/utils/validation.py:1692: FutureWarning: Feature names only support names that are all strings. Got feature names with dtypes: ['tuple']. An error will be raised in 1.2.\n",
      "  FutureWarning,\n",
      "/opt/conda/lib/python3.7/site-packages/sklearn/utils/validation.py:1692: FutureWarning: Feature names only support names that are all strings. Got feature names with dtypes: ['tuple']. An error will be raised in 1.2.\n",
      "  FutureWarning,\n",
      "/opt/conda/lib/python3.7/site-packages/sklearn/utils/validation.py:1692: FutureWarning: Feature names only support names that are all strings. Got feature names with dtypes: ['tuple']. An error will be raised in 1.2.\n",
      "  FutureWarning,\n",
      "/opt/conda/lib/python3.7/site-packages/sklearn/utils/validation.py:1692: FutureWarning: Feature names only support names that are all strings. Got feature names with dtypes: ['tuple']. An error will be raised in 1.2.\n",
      "  FutureWarning,\n",
      "/opt/conda/lib/python3.7/site-packages/sklearn/utils/validation.py:1692: FutureWarning: Feature names only support names that are all strings. Got feature names with dtypes: ['tuple']. An error will be raised in 1.2.\n",
      "  FutureWarning,\n",
      "/opt/conda/lib/python3.7/site-packages/sklearn/utils/validation.py:1692: FutureWarning: Feature names only support names that are all strings. Got feature names with dtypes: ['tuple']. An error will be raised in 1.2.\n",
      "  FutureWarning,\n",
      "/opt/conda/lib/python3.7/site-packages/sklearn/utils/validation.py:1692: FutureWarning: Feature names only support names that are all strings. Got feature names with dtypes: ['tuple']. An error will be raised in 1.2.\n",
      "  FutureWarning,\n",
      "/opt/conda/lib/python3.7/site-packages/sklearn/utils/validation.py:1692: FutureWarning: Feature names only support names that are all strings. Got feature names with dtypes: ['tuple']. An error will be raised in 1.2.\n",
      "  FutureWarning,\n",
      "/opt/conda/lib/python3.7/site-packages/sklearn/utils/validation.py:1692: FutureWarning: Feature names only support names that are all strings. Got feature names with dtypes: ['tuple']. An error will be raised in 1.2.\n",
      "  FutureWarning,\n",
      "/opt/conda/lib/python3.7/site-packages/sklearn/utils/validation.py:1692: FutureWarning: Feature names only support names that are all strings. Got feature names with dtypes: ['tuple']. An error will be raised in 1.2.\n",
      "  FutureWarning,\n",
      "/opt/conda/lib/python3.7/site-packages/sklearn/utils/validation.py:1692: FutureWarning: Feature names only support names that are all strings. Got feature names with dtypes: ['tuple']. An error will be raised in 1.2.\n",
      "  FutureWarning,\n",
      "/opt/conda/lib/python3.7/site-packages/sklearn/utils/validation.py:1692: FutureWarning: Feature names only support names that are all strings. Got feature names with dtypes: ['tuple']. An error will be raised in 1.2.\n",
      "  FutureWarning,\n",
      "/opt/conda/lib/python3.7/site-packages/sklearn/utils/validation.py:1692: FutureWarning: Feature names only support names that are all strings. Got feature names with dtypes: ['tuple']. An error will be raised in 1.2.\n",
      "  FutureWarning,\n"
     ]
    },
    {
     "data": {
      "text/html": [
       "<div>\n",
       "<style scoped>\n",
       "    .dataframe tbody tr th:only-of-type {\n",
       "        vertical-align: middle;\n",
       "    }\n",
       "\n",
       "    .dataframe tbody tr th {\n",
       "        vertical-align: top;\n",
       "    }\n",
       "\n",
       "    .dataframe thead th {\n",
       "        text-align: right;\n",
       "    }\n",
       "</style>\n",
       "<table border=\"1\" class=\"dataframe\">\n",
       "  <thead>\n",
       "    <tr style=\"text-align: right;\">\n",
       "      <th></th>\n",
       "      <th>income_range</th>\n",
       "      <th>Restaur_spend_greater_than20</th>\n",
       "      <th>no_visited_Cold drinks</th>\n",
       "      <th>Restaur_spend_less_than20</th>\n",
       "      <th>age</th>\n",
       "      <th>no_visited_bars</th>\n",
       "      <th>no_Take-aways</th>\n",
       "      <th>Qualification</th>\n",
       "      <th>offer expiration</th>\n",
       "    </tr>\n",
       "  </thead>\n",
       "  <tbody>\n",
       "    <tr>\n",
       "      <th>0</th>\n",
       "      <td>8.0</td>\n",
       "      <td>1.0</td>\n",
       "      <td>3.0</td>\n",
       "      <td>1.0</td>\n",
       "      <td>1.0</td>\n",
       "      <td>1.0</td>\n",
       "      <td>2.0</td>\n",
       "      <td>4.0</td>\n",
       "      <td>0.0</td>\n",
       "    </tr>\n",
       "    <tr>\n",
       "      <th>1</th>\n",
       "      <td>7.0</td>\n",
       "      <td>2.0</td>\n",
       "      <td>3.0</td>\n",
       "      <td>3.0</td>\n",
       "      <td>2.0</td>\n",
       "      <td>0.0</td>\n",
       "      <td>2.0</td>\n",
       "      <td>4.0</td>\n",
       "      <td>0.0</td>\n",
       "    </tr>\n",
       "    <tr>\n",
       "      <th>2</th>\n",
       "      <td>7.0</td>\n",
       "      <td>1.0</td>\n",
       "      <td>1.0</td>\n",
       "      <td>2.0</td>\n",
       "      <td>1.0</td>\n",
       "      <td>0.0</td>\n",
       "      <td>2.0</td>\n",
       "      <td>4.0</td>\n",
       "      <td>0.0</td>\n",
       "    </tr>\n",
       "    <tr>\n",
       "      <th>3</th>\n",
       "      <td>3.0</td>\n",
       "      <td>2.0</td>\n",
       "      <td>1.0</td>\n",
       "      <td>2.0</td>\n",
       "      <td>1.0</td>\n",
       "      <td>0.0</td>\n",
       "      <td>2.0</td>\n",
       "      <td>3.0</td>\n",
       "      <td>1.0</td>\n",
       "    </tr>\n",
       "    <tr>\n",
       "      <th>4</th>\n",
       "      <td>8.0</td>\n",
       "      <td>1.0</td>\n",
       "      <td>0.0</td>\n",
       "      <td>2.0</td>\n",
       "      <td>1.0</td>\n",
       "      <td>1.0</td>\n",
       "      <td>4.0</td>\n",
       "      <td>3.0</td>\n",
       "      <td>0.0</td>\n",
       "    </tr>\n",
       "  </tbody>\n",
       "</table>\n",
       "</div>"
      ],
      "text/plain": [
       "   income_range  Restaur_spend_greater_than20  no_visited_Cold drinks  \\\n",
       "0           8.0                           1.0                     3.0   \n",
       "1           7.0                           2.0                     3.0   \n",
       "2           7.0                           1.0                     1.0   \n",
       "3           3.0                           2.0                     1.0   \n",
       "4           8.0                           1.0                     0.0   \n",
       "\n",
       "   Restaur_spend_less_than20  age  no_visited_bars  no_Take-aways  \\\n",
       "0                        1.0  1.0              1.0            2.0   \n",
       "1                        3.0  2.0              0.0            2.0   \n",
       "2                        2.0  1.0              0.0            2.0   \n",
       "3                        2.0  1.0              0.0            2.0   \n",
       "4                        2.0  1.0              1.0            4.0   \n",
       "\n",
       "   Qualification  offer expiration  \n",
       "0            4.0               0.0  \n",
       "1            4.0               0.0  \n",
       "2            4.0               0.0  \n",
       "3            3.0               1.0  \n",
       "4            3.0               0.0  "
      ]
     },
     "execution_count": 26,
     "metadata": {},
     "output_type": "execute_result"
    }
   ],
   "source": [
    "df1, df2 = pd.DataFrame(), pd.DataFrame()\n",
    "feature = list(ordd.keys())\n",
    "for i in range(len(ordd)):\n",
    "    category = ordd[feature[i]]\n",
    "    df2 = pd.DataFrame(OrdinalEncoder(categories=[category]).fit_transform(features[feature[i]]), columns=[feature[i]])\n",
    "    df1 = pd.concat([df1, df2], axis=1)\n",
    "\n",
    "df1.head()"
   ]
  },
  {
   "cell_type": "code",
   "execution_count": 27,
   "id": "c3c86db7",
   "metadata": {
    "execution": {
     "iopub.execute_input": "2022-12-01T04:01:01.511723Z",
     "iopub.status.busy": "2022-12-01T04:01:01.510967Z",
     "iopub.status.idle": "2022-12-01T04:01:01.519006Z",
     "shell.execute_reply": "2022-12-01T04:01:01.518217Z"
    },
    "papermill": {
     "duration": 0.028257,
     "end_time": "2022-12-01T04:01:01.521270",
     "exception": false,
     "start_time": "2022-12-01T04:01:01.493013",
     "status": "completed"
    },
    "tags": []
   },
   "outputs": [
    {
     "data": {
      "text/plain": [
       "(12379, 9)"
      ]
     },
     "execution_count": 27,
     "metadata": {},
     "output_type": "execute_result"
    }
   ],
   "source": [
    "ordinaldf = df1.copy()\n",
    "ordinaldf.shape"
   ]
  },
  {
   "cell_type": "code",
   "execution_count": 28,
   "id": "6dcd442e",
   "metadata": {
    "execution": {
     "iopub.execute_input": "2022-12-01T04:01:01.557321Z",
     "iopub.status.busy": "2022-12-01T04:01:01.556052Z",
     "iopub.status.idle": "2022-12-01T04:01:01.605421Z",
     "shell.execute_reply": "2022-12-01T04:01:01.603739Z"
    },
    "papermill": {
     "duration": 0.070272,
     "end_time": "2022-12-01T04:01:01.608172",
     "exception": false,
     "start_time": "2022-12-01T04:01:01.537900",
     "status": "completed"
    },
    "tags": []
   },
   "outputs": [
    {
     "name": "stderr",
     "output_type": "stream",
     "text": [
      "/opt/conda/lib/python3.7/site-packages/sklearn/utils/validation.py:1692: FutureWarning: Feature names only support names that are all strings. Got feature names with dtypes: ['tuple']. An error will be raised in 1.2.\n",
      "  FutureWarning,\n",
      "/opt/conda/lib/python3.7/site-packages/sklearn/utils/validation.py:1692: FutureWarning: Feature names only support names that are all strings. Got feature names with dtypes: ['tuple']. An error will be raised in 1.2.\n",
      "  FutureWarning,\n"
     ]
    },
    {
     "data": {
      "text/plain": [
       "(12379, 47)"
      ]
     },
     "execution_count": 28,
     "metadata": {},
     "output_type": "execute_result"
    }
   ],
   "source": [
    "nominaldf = features[nominal].copy()\n",
    "nominaldf = pd.DataFrame(OneHotEncoder(sparse=False).fit_transform(nominaldf))\n",
    "nominaldf.shape"
   ]
  },
  {
   "cell_type": "code",
   "execution_count": 29,
   "id": "0764c797",
   "metadata": {
    "execution": {
     "iopub.execute_input": "2022-12-01T04:01:01.645284Z",
     "iopub.status.busy": "2022-12-01T04:01:01.644877Z",
     "iopub.status.idle": "2022-12-01T04:01:01.657707Z",
     "shell.execute_reply": "2022-12-01T04:01:01.656524Z"
    },
    "papermill": {
     "duration": 0.034912,
     "end_time": "2022-12-01T04:01:01.660309",
     "exception": false,
     "start_time": "2022-12-01T04:01:01.625397",
     "status": "completed"
    },
    "tags": []
   },
   "outputs": [
    {
     "data": {
      "text/plain": [
       "(12379, 56)"
      ]
     },
     "execution_count": 29,
     "metadata": {},
     "output_type": "execute_result"
    }
   ],
   "source": [
    "catdf = pd.concat([ordinaldf, nominaldf], axis=1)\n",
    "catdf.shape"
   ]
  },
  {
   "cell_type": "markdown",
   "id": "69bd7beb",
   "metadata": {
    "papermill": {
     "duration": 0.016944,
     "end_time": "2022-12-01T04:01:01.695448",
     "exception": false,
     "start_time": "2022-12-01T04:01:01.678504",
     "status": "completed"
    },
    "tags": []
   },
   "source": [
    "**56 columns as predicted**"
   ]
  },
  {
   "cell_type": "code",
   "execution_count": 30,
   "id": "0df20e6d",
   "metadata": {
    "execution": {
     "iopub.execute_input": "2022-12-01T04:01:01.731726Z",
     "iopub.status.busy": "2022-12-01T04:01:01.731308Z",
     "iopub.status.idle": "2022-12-01T04:01:01.739083Z",
     "shell.execute_reply": "2022-12-01T04:01:01.737807Z"
    },
    "papermill": {
     "duration": 0.02912,
     "end_time": "2022-12-01T04:01:01.741744",
     "exception": false,
     "start_time": "2022-12-01T04:01:01.712624",
     "status": "completed"
    },
    "tags": []
   },
   "outputs": [
    {
     "data": {
      "text/plain": [
       "69"
      ]
     },
     "execution_count": 30,
     "metadata": {},
     "output_type": "execute_result"
    }
   ],
   "source": [
    "len(numerical)+len(catdf.columns)"
   ]
  },
  {
   "cell_type": "code",
   "execution_count": 31,
   "id": "4e16c635",
   "metadata": {
    "execution": {
     "iopub.execute_input": "2022-12-01T04:01:01.778161Z",
     "iopub.status.busy": "2022-12-01T04:01:01.777754Z",
     "iopub.status.idle": "2022-12-01T04:01:01.783711Z",
     "shell.execute_reply": "2022-12-01T04:01:01.782488Z"
    },
    "papermill": {
     "duration": 0.027893,
     "end_time": "2022-12-01T04:01:01.786752",
     "exception": false,
     "start_time": "2022-12-01T04:01:01.758859",
     "status": "completed"
    },
    "tags": []
   },
   "outputs": [
    {
     "name": "stdout",
     "output_type": "stream",
     "text": [
      "Cooks regularly\n",
      "Travel Time\n",
      "temperature\n",
      "visit restaurant with rating (avg)\n",
      "has Children\n",
      "restuarant_opposite_direction_house\n",
      "is foodie\n",
      "restuarant_same_direction_house\n",
      "travelled_more_than_5mins_for_offer\n",
      "Prefer home food\n",
      "Prefer western over chinese\n",
      "travelled_more_than_15mins_for_offer\n",
      "travelled_more_than_25mins_for_offer\n"
     ]
    }
   ],
   "source": [
    "for i in numerical:\n",
    "    print (i)"
   ]
  },
  {
   "cell_type": "code",
   "execution_count": 32,
   "id": "a9eea5ba",
   "metadata": {
    "execution": {
     "iopub.execute_input": "2022-12-01T04:01:01.824373Z",
     "iopub.status.busy": "2022-12-01T04:01:01.823928Z",
     "iopub.status.idle": "2022-12-01T04:01:01.831860Z",
     "shell.execute_reply": "2022-12-01T04:01:01.830570Z"
    },
    "papermill": {
     "duration": 0.029228,
     "end_time": "2022-12-01T04:01:01.834266",
     "exception": false,
     "start_time": "2022-12-01T04:01:01.805038",
     "status": "completed"
    },
    "tags": []
   },
   "outputs": [
    {
     "data": {
      "text/plain": [
       "(56, 13)"
      ]
     },
     "execution_count": 32,
     "metadata": {},
     "output_type": "execute_result"
    }
   ],
   "source": [
    "len(catdf.columns), len(numerical)"
   ]
  },
  {
   "cell_type": "code",
   "execution_count": 33,
   "id": "8e203e8f",
   "metadata": {
    "execution": {
     "iopub.execute_input": "2022-12-01T04:01:01.871647Z",
     "iopub.status.busy": "2022-12-01T04:01:01.870826Z",
     "iopub.status.idle": "2022-12-01T04:01:01.897105Z",
     "shell.execute_reply": "2022-12-01T04:01:01.896083Z"
    },
    "papermill": {
     "duration": 0.047564,
     "end_time": "2022-12-01T04:01:01.899628",
     "exception": false,
     "start_time": "2022-12-01T04:01:01.852064",
     "status": "completed"
    },
    "tags": []
   },
   "outputs": [
    {
     "name": "stdout",
     "output_type": "stream",
     "text": [
      "   0   1   2  3  4  5  6  7  8  9  ...   58   59   60   61   62   63   64  \\\n",
      "0  1  22  67  4  0  0  0  0  0  0  ...  0.0  1.0  0.0  0.0  0.0  0.0  1.0   \n",
      "1  1  18  89  3  1  0  0  1  0  0  ...  1.0  1.0  0.0  0.0  0.0  0.0  1.0   \n",
      "2  0   7  67  4  1  1  1  1  1  1  ...  0.0  1.0  0.0  0.0  0.0  1.0  0.0   \n",
      "3  0   7  89  3  1  0  1  1  0  1  ...  1.0  1.0  0.0  0.0  0.0  0.0  0.0   \n",
      "4  0   7  40  3  0  1  1  0  0  0  ...  0.0  1.0  0.0  0.0  0.0  0.0  0.0   \n",
      "\n",
      "    65   66   67  \n",
      "0  0.0  1.0  0.0  \n",
      "1  0.0  1.0  0.0  \n",
      "2  0.0  1.0  0.0  \n",
      "3  1.0  0.0  1.0  \n",
      "4  1.0  1.0  0.0  \n",
      "\n",
      "[5 rows x 68 columns]\n"
     ]
    }
   ],
   "source": [
    "transformed = pd.concat([features[numerical], catdf], axis=1)\n",
    "transformed.columns = [str(i) for i in range(len(transformed.columns))]\n",
    "print(transformed.head())"
   ]
  },
  {
   "cell_type": "code",
   "execution_count": null,
   "id": "6d01abce",
   "metadata": {
    "papermill": {
     "duration": 0.017237,
     "end_time": "2022-12-01T04:01:01.934213",
     "exception": false,
     "start_time": "2022-12-01T04:01:01.916976",
     "status": "completed"
    },
    "tags": []
   },
   "outputs": [],
   "source": []
  },
  {
   "cell_type": "code",
   "execution_count": 34,
   "id": "f1da5f7f",
   "metadata": {
    "execution": {
     "iopub.execute_input": "2022-12-01T04:01:01.973408Z",
     "iopub.status.busy": "2022-12-01T04:01:01.972702Z",
     "iopub.status.idle": "2022-12-01T04:01:01.978568Z",
     "shell.execute_reply": "2022-12-01T04:01:01.977750Z"
    },
    "papermill": {
     "duration": 0.028152,
     "end_time": "2022-12-01T04:01:01.980769",
     "exception": false,
     "start_time": "2022-12-01T04:01:01.952617",
     "status": "completed"
    },
    "tags": []
   },
   "outputs": [
    {
     "data": {
      "text/plain": [
       "(12379, 68)"
      ]
     },
     "execution_count": 34,
     "metadata": {},
     "output_type": "execute_result"
    }
   ],
   "source": [
    "transformed.shape"
   ]
  },
  {
   "cell_type": "code",
   "execution_count": 35,
   "id": "8f435ff2",
   "metadata": {
    "execution": {
     "iopub.execute_input": "2022-12-01T04:01:02.018013Z",
     "iopub.status.busy": "2022-12-01T04:01:02.017285Z",
     "iopub.status.idle": "2022-12-01T04:01:02.063954Z",
     "shell.execute_reply": "2022-12-01T04:01:02.062184Z"
    },
    "papermill": {
     "duration": 0.068404,
     "end_time": "2022-12-01T04:01:02.066746",
     "exception": false,
     "start_time": "2022-12-01T04:01:01.998342",
     "status": "completed"
    },
    "tags": []
   },
   "outputs": [
    {
     "name": "stdout",
     "output_type": "stream",
     "text": [
      "0 2\n",
      "1 5\n",
      "2 3\n",
      "3 5\n",
      "4 2\n",
      "5 2\n",
      "6 2\n",
      "7 2\n",
      "8 2\n",
      "9 2\n",
      "10 2\n",
      "11 2\n",
      "12 9\n",
      "13 5\n",
      "14 5\n",
      "15 5\n",
      "16 3\n",
      "17 5\n",
      "18 5\n",
      "19 6\n",
      "20 2\n",
      "21 2\n",
      "22 2\n",
      "23 2\n",
      "24 2\n",
      "25 2\n",
      "26 2\n",
      "27 2\n",
      "28 2\n",
      "29 2\n",
      "30 2\n",
      "31 2\n",
      "32 2\n",
      "33 2\n",
      "34 2\n",
      "35 2\n",
      "36 2\n",
      "37 2\n",
      "38 2\n",
      "39 2\n",
      "40 2\n",
      "41 2\n",
      "42 2\n",
      "43 2\n",
      "44 2\n",
      "45 2\n",
      "46 2\n",
      "47 2\n",
      "48 2\n",
      "49 2\n",
      "50 2\n",
      "51 2\n",
      "52 2\n",
      "53 2\n",
      "54 2\n",
      "55 2\n",
      "56 2\n",
      "57 2\n",
      "58 2\n",
      "59 2\n",
      "60 2\n",
      "61 2\n",
      "62 2\n",
      "63 2\n",
      "64 2\n",
      "65 2\n",
      "66 2\n",
      "67 2\n"
     ]
    }
   ],
   "source": [
    "for i in transformed.columns:\n",
    "    if (len(transformed[i].unique())==1):\n",
    "        transformed.drop(i, axis=1, inplace=True)\n",
    "\n",
    "transformed.columns = range(len(transformed.columns))\n",
    "for i in transformed.columns:\n",
    "    print(i, len(transformed[i].unique()))"
   ]
  },
  {
   "cell_type": "markdown",
   "id": "6ba5ca17",
   "metadata": {
    "papermill": {
     "duration": 0.017884,
     "end_time": "2022-12-01T04:01:02.102335",
     "exception": false,
     "start_time": "2022-12-01T04:01:02.084451",
     "status": "completed"
    },
    "tags": []
   },
   "source": [
    "## Numerical Transformers"
   ]
  },
  {
   "cell_type": "code",
   "execution_count": 36,
   "id": "8f18af12",
   "metadata": {
    "execution": {
     "iopub.execute_input": "2022-12-01T04:01:02.138882Z",
     "iopub.status.busy": "2022-12-01T04:01:02.138426Z",
     "iopub.status.idle": "2022-12-01T04:01:02.330864Z",
     "shell.execute_reply": "2022-12-01T04:01:02.329902Z"
    },
    "papermill": {
     "duration": 0.213854,
     "end_time": "2022-12-01T04:01:02.333591",
     "exception": false,
     "start_time": "2022-12-01T04:01:02.119737",
     "status": "completed"
    },
    "tags": []
   },
   "outputs": [],
   "source": [
    "import seaborn as sns"
   ]
  },
  {
   "cell_type": "code",
   "execution_count": 37,
   "id": "8ab5bcf6",
   "metadata": {
    "execution": {
     "iopub.execute_input": "2022-12-01T04:01:02.373902Z",
     "iopub.status.busy": "2022-12-01T04:01:02.371723Z",
     "iopub.status.idle": "2022-12-01T04:01:02.522867Z",
     "shell.execute_reply": "2022-12-01T04:01:02.521915Z"
    },
    "papermill": {
     "duration": 0.173346,
     "end_time": "2022-12-01T04:01:02.525270",
     "exception": false,
     "start_time": "2022-12-01T04:01:02.351924",
     "status": "completed"
    },
    "tags": []
   },
   "outputs": [
    {
     "data": {
      "text/plain": [
       "<Figure size 1440x1440 with 0 Axes>"
      ]
     },
     "execution_count": 37,
     "metadata": {},
     "output_type": "execute_result"
    },
    {
     "data": {
      "text/plain": [
       "<Figure size 1440x1440 with 0 Axes>"
      ]
     },
     "metadata": {},
     "output_type": "display_data"
    }
   ],
   "source": [
    "cormat = transformed.corr()\n",
    "plt.figure(figsize=(20,20))\n",
    "#sns.heatmap(cormat)"
   ]
  },
  {
   "cell_type": "markdown",
   "id": "8228552a",
   "metadata": {
    "papermill": {
     "duration": 0.017519,
     "end_time": "2022-12-01T04:01:02.560744",
     "exception": false,
     "start_time": "2022-12-01T04:01:02.543225",
     "status": "completed"
    },
    "tags": []
   },
   "source": [
    "**If the minimum value in data=0, MinMaxScaler and MaxAbsScaler work the same**"
   ]
  },
  {
   "cell_type": "code",
   "execution_count": 38,
   "id": "10724211",
   "metadata": {
    "execution": {
     "iopub.execute_input": "2022-12-01T04:01:02.599230Z",
     "iopub.status.busy": "2022-12-01T04:01:02.598228Z",
     "iopub.status.idle": "2022-12-01T04:01:02.753903Z",
     "shell.execute_reply": "2022-12-01T04:01:02.752676Z"
    },
    "papermill": {
     "duration": 0.177748,
     "end_time": "2022-12-01T04:01:02.756500",
     "exception": false,
     "start_time": "2022-12-01T04:01:02.578752",
     "status": "completed"
    },
    "tags": []
   },
   "outputs": [
    {
     "data": {
      "text/plain": [
       "0.0    56\n",
       "Name: min, dtype: int64"
      ]
     },
     "execution_count": 38,
     "metadata": {},
     "output_type": "execute_result"
    }
   ],
   "source": [
    "((transformed.describe()).loc['min']).value_counts()"
   ]
  },
  {
   "cell_type": "code",
   "execution_count": 39,
   "id": "32f70ab9",
   "metadata": {
    "execution": {
     "iopub.execute_input": "2022-12-01T04:01:02.795826Z",
     "iopub.status.busy": "2022-12-01T04:01:02.794493Z",
     "iopub.status.idle": "2022-12-01T04:01:02.800269Z",
     "shell.execute_reply": "2022-12-01T04:01:02.799415Z"
    },
    "papermill": {
     "duration": 0.028025,
     "end_time": "2022-12-01T04:01:02.802657",
     "exception": false,
     "start_time": "2022-12-01T04:01:02.774632",
     "status": "completed"
    },
    "tags": []
   },
   "outputs": [],
   "source": [
    "from sklearn.preprocessing import MinMaxScaler, StandardScaler"
   ]
  },
  {
   "cell_type": "code",
   "execution_count": 40,
   "id": "3a6dcde8",
   "metadata": {
    "execution": {
     "iopub.execute_input": "2022-12-01T04:01:02.841292Z",
     "iopub.status.busy": "2022-12-01T04:01:02.840059Z",
     "iopub.status.idle": "2022-12-01T04:01:02.845454Z",
     "shell.execute_reply": "2022-12-01T04:01:02.844466Z"
    },
    "papermill": {
     "duration": 0.026916,
     "end_time": "2022-12-01T04:01:02.847809",
     "exception": false,
     "start_time": "2022-12-01T04:01:02.820893",
     "status": "completed"
    },
    "tags": []
   },
   "outputs": [],
   "source": [
    "minmax, std = MinMaxScaler(), StandardScaler()"
   ]
  },
  {
   "cell_type": "code",
   "execution_count": 41,
   "id": "d8d792c0",
   "metadata": {
    "execution": {
     "iopub.execute_input": "2022-12-01T04:01:02.885735Z",
     "iopub.status.busy": "2022-12-01T04:01:02.885351Z",
     "iopub.status.idle": "2022-12-01T04:01:03.331155Z",
     "shell.execute_reply": "2022-12-01T04:01:03.329723Z"
    },
    "papermill": {
     "duration": 0.468276,
     "end_time": "2022-12-01T04:01:03.334299",
     "exception": false,
     "start_time": "2022-12-01T04:01:02.866023",
     "status": "completed"
    },
    "tags": []
   },
   "outputs": [
    {
     "data": {
      "text/plain": [
       "{'whiskers': [<matplotlib.lines.Line2D at 0x7ff2e2f2f350>,\n",
       "  <matplotlib.lines.Line2D at 0x7ff2e2f2f810>],\n",
       " 'caps': [<matplotlib.lines.Line2D at 0x7ff2e2f2fed0>,\n",
       "  <matplotlib.lines.Line2D at 0x7ff2e2f34310>],\n",
       " 'boxes': [<matplotlib.lines.Line2D at 0x7ff2e2f2f550>],\n",
       " 'medians': [<matplotlib.lines.Line2D at 0x7ff2e2f34450>],\n",
       " 'fliers': [<matplotlib.lines.Line2D at 0x7ff2e2f34b10>],\n",
       " 'means': []}"
      ]
     },
     "execution_count": 41,
     "metadata": {},
     "output_type": "execute_result"
    },
    {
     "data": {
      "image/png": "[encoded data removed]",
      "text/plain": [
       "<Figure size 432x288 with 1 Axes>"
      ]
     },
     "metadata": {
      "needs_background": "light"
     },
     "output_type": "display_data"
    }
   ],
   "source": [
    "mm = pd.DataFrame(minmax.fit_transform(transformed))\n",
    "mmvar = (pd.DataFrame(mm.var()))[0]\n",
    "plt.boxplot(mmvar)"
   ]
  },
  {
   "cell_type": "code",
   "execution_count": 42,
   "id": "220c551c",
   "metadata": {
    "execution": {
     "iopub.execute_input": "2022-12-01T04:01:03.376100Z",
     "iopub.status.busy": "2022-12-01T04:01:03.374838Z",
     "iopub.status.idle": "2022-12-01T04:01:03.803950Z",
     "shell.execute_reply": "2022-12-01T04:01:03.802961Z"
    },
    "papermill": {
     "duration": 0.45282,
     "end_time": "2022-12-01T04:01:03.806803",
     "exception": false,
     "start_time": "2022-12-01T04:01:03.353983",
     "status": "completed"
    },
    "tags": []
   },
   "outputs": [
    {
     "data": {
      "text/plain": [
       "{'whiskers': [<matplotlib.lines.Line2D at 0x7ff2df47cd90>,\n",
       "  <matplotlib.lines.Line2D at 0x7ff2e3596110>],\n",
       " 'caps': [<matplotlib.lines.Line2D at 0x7ff2e3596450>,\n",
       "  <matplotlib.lines.Line2D at 0x7ff2e3596790>],\n",
       " 'boxes': [<matplotlib.lines.Line2D at 0x7ff2df47cad0>],\n",
       " 'medians': [<matplotlib.lines.Line2D at 0x7ff2e3596b10>],\n",
       " 'fliers': [<matplotlib.lines.Line2D at 0x7ff2e3596e50>],\n",
       " 'means': []}"
      ]
     },
     "execution_count": 42,
     "metadata": {},
     "output_type": "execute_result"
    },
    {
     "data": {
      "image/png": "[encoded data removed]",
      "text/plain": [
       "<Figure size 432x288 with 1 Axes>"
      ]
     },
     "metadata": {
      "needs_background": "light"
     },
     "output_type": "display_data"
    }
   ],
   "source": [
    "ss = pd.DataFrame(std.fit_transform(transformed))\n",
    "ssvar = (pd.DataFrame(ss.var()))[0]\n",
    "plt.boxplot(ssvar)"
   ]
  },
  {
   "cell_type": "markdown",
   "id": "be88eeb6",
   "metadata": {
    "papermill": {
     "duration": 0.018769,
     "end_time": "2022-12-01T04:01:03.850591",
     "exception": false,
     "start_time": "2022-12-01T04:01:03.831822",
     "status": "completed"
    },
    "tags": []
   },
   "source": [
    "**Standard scaler gives a standard normal distribution**"
   ]
  },
  {
   "cell_type": "code",
   "execution_count": null,
   "id": "745121af",
   "metadata": {
    "papermill": {
     "duration": 0.018601,
     "end_time": "2022-12-01T04:01:03.887954",
     "exception": false,
     "start_time": "2022-12-01T04:01:03.869353",
     "status": "completed"
    },
    "tags": []
   },
   "outputs": [],
   "source": []
  },
  {
   "cell_type": "code",
   "execution_count": null,
   "id": "d5f637bb",
   "metadata": {
    "papermill": {
     "duration": 0.019076,
     "end_time": "2022-12-01T04:01:03.926521",
     "exception": false,
     "start_time": "2022-12-01T04:01:03.907445",
     "status": "completed"
    },
    "tags": []
   },
   "outputs": [],
   "source": []
  },
  {
   "cell_type": "markdown",
   "id": "fa214e3e",
   "metadata": {
    "execution": {
     "iopub.execute_input": "2022-11-30T18:43:34.602607Z",
     "iopub.status.busy": "2022-11-30T18:43:34.601603Z",
     "iopub.status.idle": "2022-11-30T18:43:34.609342Z",
     "shell.execute_reply": "2022-11-30T18:43:34.608220Z",
     "shell.execute_reply.started": "2022-11-30T18:43:34.602536Z"
    },
    "papermill": {
     "duration": 0.018391,
     "end_time": "2022-12-01T04:01:03.964225",
     "exception": false,
     "start_time": "2022-12-01T04:01:03.945834",
     "status": "completed"
    },
    "tags": []
   },
   "source": [
    "# ML Modelling"
   ]
  },
  {
   "cell_type": "markdown",
   "id": "987f8bb6",
   "metadata": {
    "papermill": {
     "duration": 0.018172,
     "end_time": "2022-12-01T04:01:04.001521",
     "exception": false,
     "start_time": "2022-12-01T04:01:03.983349",
     "status": "completed"
    },
    "tags": []
   },
   "source": [
    "## Baseline model"
   ]
  },
  {
   "cell_type": "markdown",
   "id": "8294e053",
   "metadata": {
    "papermill": {
     "duration": 0.018388,
     "end_time": "2022-12-01T04:01:04.038377",
     "exception": false,
     "start_time": "2022-12-01T04:01:04.019989",
     "status": "completed"
    },
    "tags": []
   },
   "source": [
    "## KNN"
   ]
  },
  {
   "cell_type": "markdown",
   "id": "1c638b24",
   "metadata": {
    "papermill": {
     "duration": 0.018298,
     "end_time": "2022-12-01T04:01:04.075282",
     "exception": false,
     "start_time": "2022-12-01T04:01:04.056984",
     "status": "completed"
    },
    "tags": []
   },
   "source": [
    "## SVM"
   ]
  },
  {
   "cell_type": "code",
   "execution_count": null,
   "id": "149559e6",
   "metadata": {
    "papermill": {
     "duration": 0.018284,
     "end_time": "2022-12-01T04:01:04.112080",
     "exception": false,
     "start_time": "2022-12-01T04:01:04.093796",
     "status": "completed"
    },
    "tags": []
   },
   "outputs": [],
   "source": []
  }
 ],
 "metadata": {
  "kernelspec": {
   "display_name": "Python 3",
   "language": "python",
   "name": "python3"
  },
  "language_info": {
   "codemirror_mode": {
    "name": "ipython",
    "version": 3
   },
   "file_extension": ".py",
   "mimetype": "text/x-python",
   "name": "python",
   "nbconvert_exporter": "python",
   "pygments_lexer": "ipython3",
   "version": "3.7.12"
  },
  "papermill": {
   "default_parameters": {},
   "duration": 29.97796,
   "end_time": "2022-12-01T04:01:04.956335",
   "environment_variables": {},
   "exception": null,
   "input_path": "__notebook__.ipynb",
   "output_path": "__notebook__.ipynb",
   "parameters": {},
   "start_time": "2022-12-01T04:00:34.978375",
   "version": "2.3.4"
  }
 },
 "nbformat": 4,
 "nbformat_minor": 5
}
