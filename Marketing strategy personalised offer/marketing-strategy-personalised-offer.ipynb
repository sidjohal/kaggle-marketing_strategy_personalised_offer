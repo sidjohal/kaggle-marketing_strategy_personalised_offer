,{
  "nbformat": 4,
  "nbformat_minor": 0,
  "metadata": {
    "colab": {
      "provenance": []
    },
    "kernelspec": {
      "name": "python3",
      "display_name": "Python 3"
    },
    "language_info": {
      "name": "python"
    }
  },
  "cells": [
    {
      "cell_type": "code",
      "execution_count": 1,
      "metadata": {
        "id": "aYjEGghQn_dZ"
      },
      "outputs": [],
      "source": [
        "import pandas as pd, numpy as np, matplotlib.pyplot as pyplot"
      ]
    },
    {
      "cell_type": "code",
      "source": [
        "from sklearn.model_selection import train_test_split"
      ],
      "metadata": {
        "id": "2fBE7napotlk"
      },
      "execution_count": 2,
      "outputs": []
    },
    {
      "cell_type": "markdown",
      "source": [
        "## Data loading"
      ],
      "metadata": {
        "id": "5pOTyU-8vZ6V"
      }
    },
    {
      "cell_type": "code",
      "source": [
        "raw = pd.read_csv(\"data/train_data.csv\")\n",
        "raw.shape"
      ],
      "metadata": {
        "colab": {
          "base_uri": "https://localhost:8080/"
        },
        "id": "nb13rLwhox1w",
        "outputId": "31b4a90e-e458-493e-eac8-126fd16debee"
      },
      "execution_count": 22,
      "outputs": [
        {
          "output_type": "execute_result",
          "data": {
            "text/plain": [
              "(12379, 31)"
            ]
          },
          "metadata": {},
          "execution_count": 22
        }
      ]
    },
    {
      "cell_type": "markdown",
      "source": [
        "### Columns "
      ],
      "metadata": {
        "id": "EbbTfZl0qdDQ"
      }
    },
    {
      "cell_type": "markdown",
      "source": [
        "\n",
        "    data_dictionary = {'offer expiration':'Number of days offer is valid,\n",
        "    'income_range': 'income range',\n",
        "    'no_visited_Cold drinks':'Number of times visited cold drinks',\n",
        "    'travelled_more_than_15mins_for_offer':'Have you traveled more than 15 mins to avail an offer?',\n",
        "    'Restaur_spend_less_than20': 'Number of times spend less than 20 dollar in restaurant,\n",
        "    'Marital Status': 'Marital status',\n",
        "    'restaurant type': 'type of restaurant',\n",
        "    'age': 'age',\n",
        "    'Prefer western over Chinese: 'Do you Prefer western over chinese'',\n",
        "    'travelled_more_than_25mins_for_offer': 'Have you traveled more than 25 mins to avail an offer?',\n",
        "    'travelled_more_than_5mins_for_offer': 'Have you traveled more than 5 mins to avail an offer?',\n",
        "    'no_visited_bars': 'Number of times visited bar',\n",
        "    'gender': 'gender',\n",
        "    'car': 'type of vehicle do you use in your own words',\n",
        "    'restuarant_same_direction_house',\n",
        "    'Cooks regularly': 'Do you cook regularly?',\n",
        "    'Customer type': 'Whom do you prefer to go with?',\n",
        "    'Qualification': 'Qualification',\n",
        "    'is foodie': 'Is foodie',\n",
        "    'no_Take-aways': 'Number of times opted for take-away',\n",
        "    'Job/Job Industry': 'Type of industry you work with',\n",
        "    'restuarant_opposite_direction_house': 'is the coupon offered restaurant located opposite direction to your house?',\n",
        "    'has Children':'Do you have children?',\n",
        "    'visit restaurant with rating (avg)': 'average rating of the restaurant which gave offer',\n",
        "    'temperature':'current temperature',\n",
        "    'Restaur_spend_greater_than20': 'Number of times spend greater than 20 dollar in restuarant',\n",
        "    'Travel Time': 'travel time for the restaurant which gave offer',\n",
        "    'Climate': 'current climate',\n",
        "    'drop location': 'where are you heading to?',\n",
        "    'Prefer home food': 'Do you prefer home food?',\n",
        "    'Offer Accepted': ' Did you accept the offer?'}\n",
        "    Target Variable: Offer Accepted\n",
        "    Most of the column names are self-explanatory names."
      ],
      "metadata": {
        "id": "N0HzwPBR3WAu"
      }
    },
    {
      "cell_type": "markdown",
      "source": [
        "## Missing values"
      ],
      "metadata": {
        "id": "G5mtOce3vKzP"
      }
    },
    {
      "cell_type": "code",
      "source": [
        "raw.shape, raw.isna().sum()"
      ],
      "metadata": {
        "colab": {
          "base_uri": "https://localhost:8080/"
        },
        "id": "Bo0GZkqnpR4n",
        "outputId": "b0bfa292-ba0c-4d03-bb15-ac5e595dd884"
      },
      "execution_count": 75,
      "outputs": [
        {
          "output_type": "execute_result",
          "data": {
            "text/plain": [
              "((12379, 30), offer expiration                          0\n",
              " income_range                              0\n",
              " no_visited_Cold drinks                  198\n",
              " travelled_more_than_15mins_for_offer      0\n",
              " Restaur_spend_less_than20               121\n",
              " Marital Status                            0\n",
              " restaurant type                           0\n",
              " age                                       0\n",
              " Prefer western over chinese               0\n",
              " travelled_more_than_25mins_for_offer      0\n",
              " travelled_more_than_5mins_for_offer       0\n",
              " no_visited_bars                          93\n",
              " gender                                    0\n",
              " restuarant_same_direction_house           0\n",
              " Cooks regularly                           0\n",
              " Customer type                             0\n",
              " Qualification                             0\n",
              " is foodie                                 0\n",
              " no_Take-aways                           144\n",
              " Job/Job Industry                          0\n",
              " restuarant_opposite_direction_house       0\n",
              " has Children                              0\n",
              " visit restaurant with rating (avg)        0\n",
              " temperature                               0\n",
              " Restaur_spend_greater_than20            160\n",
              " Travel Time                               0\n",
              " Climate                                   0\n",
              " drop location                             0\n",
              " Prefer home food                          0\n",
              " Offer Accepted                            0\n",
              " dtype: int64)"
            ]
          },
          "metadata": {},
          "execution_count": 75
        }
      ]
    },
    {
      "cell_type": "code",
      "source": [
        "raw.info()"
      ],
      "metadata": {
        "colab": {
          "base_uri": "https://localhost:8080/"
        },
        "id": "E64oFIxLwBdx",
        "outputId": "7f3ecc9a-47b7-4415-8431-97790bc94e68"
      },
      "execution_count": 76,
      "outputs": [
        {
          "output_type": "stream",
          "name": "stdout",
          "text": [
            "<class 'pandas.core.frame.DataFrame'>\n",
            "RangeIndex: 12379 entries, 0 to 12378\n",
            "Data columns (total 30 columns):\n",
            " #   Column                                Non-Null Count  Dtype \n",
            "---  ------                                --------------  ----- \n",
            " 0   offer expiration                      12379 non-null  object\n",
            " 1   income_range                          12379 non-null  object\n",
            " 2   no_visited_Cold drinks                12181 non-null  object\n",
            " 3   travelled_more_than_15mins_for_offer  12379 non-null  int64 \n",
            " 4   Restaur_spend_less_than20             12258 non-null  object\n",
            " 5   Marital Status                        12379 non-null  object\n",
            " 6   restaurant type                       12379 non-null  object\n",
            " 7   age                                   12379 non-null  object\n",
            " 8   Prefer western over chinese           12379 non-null  int64 \n",
            " 9   travelled_more_than_25mins_for_offer  12379 non-null  int64 \n",
            " 10  travelled_more_than_5mins_for_offer   12379 non-null  int64 \n",
            " 11  no_visited_bars                       12286 non-null  object\n",
            " 12  gender                                12379 non-null  object\n",
            " 13  restuarant_same_direction_house       12379 non-null  int64 \n",
            " 14  Cooks regularly                       12379 non-null  int64 \n",
            " 15  Customer type                         12379 non-null  object\n",
            " 16  Qualification                         12379 non-null  object\n",
            " 17  is foodie                             12379 non-null  int64 \n",
            " 18  no_Take-aways                         12235 non-null  object\n",
            " 19  Job/Job Industry                      12379 non-null  object\n",
            " 20  restuarant_opposite_direction_house   12379 non-null  int64 \n",
            " 21  has Children                          12379 non-null  int64 \n",
            " 22  visit restaurant with rating (avg)    12379 non-null  int64 \n",
            " 23  temperature                           12379 non-null  int64 \n",
            " 24  Restaur_spend_greater_than20          12219 non-null  object\n",
            " 25  Travel Time                           12379 non-null  int64 \n",
            " 26  Climate                               12379 non-null  object\n",
            " 27  drop location                         12379 non-null  object\n",
            " 28  Prefer home food                      12379 non-null  int64 \n",
            " 29  Offer Accepted                        12379 non-null  object\n",
            "dtypes: int64(13), object(17)\n",
            "memory usage: 2.8+ MB\n"
          ]
        }
      ]
    },
    {
      "cell_type": "code",
      "source": [],
      "metadata": {
        "id": "fXTd7kLL34KM"
      },
      "execution_count": null,
      "outputs": []
    },
    {
      "cell_type": "code",
      "source": [
        "try:\n",
        "    raw.drop(\"car\", axis=1, inplace=True)\n",
        "except:\n",
        "    pass\n",
        "raw.shape"
      ],
      "metadata": {
        "colab": {
          "base_uri": "https://localhost:8080/"
        },
        "id": "AEfZzSpDrN3L",
        "outputId": "b18b3465-b0da-475c-c5ad-8199c79e5dbf"
      },
      "execution_count": 80,
      "outputs": [
        {
          "output_type": "execute_result",
          "data": {
            "text/plain": [
              "(12379, 30)"
            ]
          },
          "metadata": {},
          "execution_count": 80
        }
      ]
    },
    {
      "cell_type": "code",
      "source": [
        "# defining a function to detail columns having na values\n",
        "def show_na(rframe):\n",
        "    for i in rframe.columns:\n",
        "        if (rframe[i].isna().sum()>0):\n",
        "            print (i, rframe[i].unique())\n",
        "            print(\"nan\", rframe[i].isna().sum())\n",
        "            print (rframe[i].value_counts())\n",
        "            print(\"\\n\")\n"
      ],
      "metadata": {
        "id": "lJtZbr_VszMQ"
      },
      "execution_count": 61,
      "outputs": []
    },
    {
      "cell_type": "code",
      "source": [
        "show_na(raw)"
      ],
      "metadata": {
        "colab": {
          "base_uri": "https://localhost:8080/"
        },
        "id": "f8jIXfjwtE4g",
        "outputId": "ac4bc5f1-c2bd-4570-aaf7-a7c38b78e329"
      },
      "execution_count": 62,
      "outputs": [
        {
          "output_type": "stream",
          "name": "stdout",
          "text": [
            "no_visited_Cold drinks ['4~8' 'less1' 'never' '1~3' 'gt8' nan]\n",
            "nan 198\n",
            "less1    3304\n",
            "1~3      3147\n",
            "never    2903\n",
            "4~8      1776\n",
            "gt8      1051\n",
            "Name: no_visited_Cold drinks, dtype: int64\n",
            "\n",
            "\n",
            "Restaur_spend_less_than20 ['less1' '4~8' '1~3' 'gt8' 'never' nan]\n",
            "nan 121\n",
            "1~3      5248\n",
            "4~8      3485\n",
            "less1    2052\n",
            "gt8      1265\n",
            "never     208\n",
            "Name: Restaur_spend_less_than20, dtype: int64\n",
            "\n",
            "\n",
            "no_visited_bars ['less1' 'never' '1~3' nan '4~8' 'gt8']\n",
            "nan 93\n",
            "never    5064\n",
            "less1    3397\n",
            "1~3      2430\n",
            "4~8      1047\n",
            "gt8       348\n",
            "Name: no_visited_bars, dtype: int64\n",
            "\n",
            "\n",
            "no_Take-aways ['1~3' 'gt8' '4~8' 'less1' nan 'never']\n",
            "nan 144\n",
            "1~3      4650\n",
            "4~8      4115\n",
            "less1    1762\n",
            "gt8      1568\n",
            "never     140\n",
            "Name: no_Take-aways, dtype: int64\n",
            "\n",
            "\n",
            "Restaur_spend_greater_than20 ['less1' '1~3' 'never' 'gt8' nan '4~8']\n",
            "nan 160\n",
            "less1    5992\n",
            "1~3      3216\n",
            "never    2033\n",
            "4~8       711\n",
            "gt8       267\n",
            "Name: Restaur_spend_greater_than20, dtype: int64\n",
            "\n",
            "\n"
          ]
        }
      ]
    },
    {
      "cell_type": "markdown",
      "source": [
        "To handle NA values we can either impute or drop the column\n",
        "\n",
        "To impute, we use SimpleImputer or KNNImputer"
      ],
      "metadata": {
        "id": "cyFV69NIvHOx"
      }
    },
    {
      "cell_type": "code",
      "source": [
        "from sklearn.impute import SimpleImputer"
      ],
      "metadata": {
        "id": "dZX4pcmauo4N"
      },
      "execution_count": 63,
      "outputs": []
    },
    {
      "cell_type": "code",
      "source": [
        "simp = SimpleImputer(strategy=\"mean\")\n",
        "copy = raw.copy()\n",
        "type(copy)"
      ],
      "metadata": {
        "colab": {
          "base_uri": "https://localhost:8080/"
        },
        "id": "CJeOtpyKvG5e",
        "outputId": "b7a0d7d7-6137-4dfe-f735-7de39e2bd115"
      },
      "execution_count": 64,
      "outputs": [
        {
          "output_type": "execute_result",
          "data": {
            "text/plain": [
              "pandas.core.frame.DataFrame"
            ]
          },
          "metadata": {},
          "execution_count": 64
        }
      ]
    },
    {
      "cell_type": "code",
      "source": [
        "copy.columns.isna().sum()"
      ],
      "metadata": {
        "colab": {
          "base_uri": "https://localhost:8080/"
        },
        "id": "cjxibGnruwQ8",
        "outputId": "b5f3e7f8-dc62-4dda-f678-a04701be9d83"
      },
      "execution_count": 69,
      "outputs": [
        {
          "output_type": "execute_result",
          "data": {
            "text/plain": [
              "0"
            ]
          },
          "metadata": {},
          "execution_count": 69
        }
      ]
    },
    {
      "cell_type": "code",
      "source": [
        "#copy.head()"
      ],
      "metadata": {
        "id": "CXsj2mqA0WeC"
      },
      "execution_count": 73,
      "outputs": []
    },
    {
      "cell_type": "code",
      "source": [
        "copy.isna().sum()"
      ],
      "metadata": {
        "colab": {
          "base_uri": "https://localhost:8080/"
        },
        "id": "ACm_3mQ00tyB",
        "outputId": "e3095c8b-3585-4d45-dffa-3634ad9647cf"
      },
      "execution_count": 72,
      "outputs": [
        {
          "output_type": "execute_result",
          "data": {
            "text/plain": [
              "offer expiration                          0\n",
              "income_range                              0\n",
              "no_visited_Cold drinks                  198\n",
              "travelled_more_than_15mins_for_offer      0\n",
              "Restaur_spend_less_than20               121\n",
              "Marital Status                            0\n",
              "restaurant type                           0\n",
              "age                                       0\n",
              "Prefer western over chinese               0\n",
              "travelled_more_than_25mins_for_offer      0\n",
              "travelled_more_than_5mins_for_offer       0\n",
              "no_visited_bars                          93\n",
              "gender                                    0\n",
              "restuarant_same_direction_house           0\n",
              "Cooks regularly                           0\n",
              "Customer type                             0\n",
              "Qualification                             0\n",
              "is foodie                                 0\n",
              "no_Take-aways                           144\n",
              "Job/Job Industry                          0\n",
              "restuarant_opposite_direction_house       0\n",
              "has Children                              0\n",
              "visit restaurant with rating (avg)        0\n",
              "temperature                               0\n",
              "Restaur_spend_greater_than20            160\n",
              "Travel Time                               0\n",
              "Climate                                   0\n",
              "drop location                             0\n",
              "Prefer home food                          0\n",
              "Offer Accepted                            0\n",
              "dtype: int64"
            ]
          },
          "metadata": {},
          "execution_count": 72
        }
      ]
    },
    {
      "cell_type": "code",
      "source": [
        "features = raw.drop(\"Offer Accepted\", axis=1)\n",
        "label = raw[\"Offer Accepted\"]\n",
        "features.shape, raw.shape"
      ],
      "metadata": {
        "colab": {
          "base_uri": "https://localhost:8080/"
        },
        "id": "qWv3Axjm0wVY",
        "outputId": "f051e7ba-4597-45c3-ff10-9c4f1f912d3f"
      },
      "execution_count": 84,
      "outputs": [
        {
          "output_type": "execute_result",
          "data": {
            "text/plain": [
              "((12379, 29), (12379, 30))"
            ]
          },
          "metadata": {},
          "execution_count": 84
        }
      ]
    },
    {
      "cell_type": "code",
      "source": [
        "features.dtypes.sort_values()"
      ],
      "metadata": {
        "colab": {
          "base_uri": "https://localhost:8080/"
        },
        "id": "Jtng2vcn-pjf",
        "outputId": "76d87266-cf91-4fd9-d309-71be7816253b"
      },
      "execution_count": 96,
      "outputs": [
        {
          "output_type": "execute_result",
          "data": {
            "text/plain": [
              "Cooks regularly                          int64\n",
              "Travel Time                              int64\n",
              "temperature                              int64\n",
              "visit restaurant with rating (avg)       int64\n",
              "has Children                             int64\n",
              "restuarant_opposite_direction_house      int64\n",
              "is foodie                                int64\n",
              "restuarant_same_direction_house          int64\n",
              "travelled_more_than_5mins_for_offer      int64\n",
              "Prefer home food                         int64\n",
              "Prefer western over chinese              int64\n",
              "travelled_more_than_15mins_for_offer     int64\n",
              "travelled_more_than_25mins_for_offer     int64\n",
              "Climate                                 object\n",
              "income_range                            object\n",
              "Restaur_spend_greater_than20            object\n",
              "no_visited_Cold drinks                  object\n",
              "Restaur_spend_less_than20               object\n",
              "Marital Status                          object\n",
              "Job/Job Industry                        object\n",
              "restaurant type                         object\n",
              "Qualification                           object\n",
              "Customer type                           object\n",
              "drop location                           object\n",
              "age                                     object\n",
              "gender                                  object\n",
              "no_visited_bars                         object\n",
              "no_Take-aways                           object\n",
              "offer expiration                        object\n",
              "dtype: object"
            ]
          },
          "metadata": {},
          "execution_count": 96
        }
      ]
    },
    {
      "cell_type": "code",
      "source": [],
      "metadata": {
        "id": "5i3d5bzT-50V"
      },
      "execution_count": null,
      "outputs": []
    }
  ]
}
