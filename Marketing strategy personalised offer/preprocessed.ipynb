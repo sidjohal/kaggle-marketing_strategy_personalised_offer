{
 "cells": [
  {
   "cell_type": "markdown",
   "id": "3dcc1575",
   "metadata": {
    "papermill": {
     "duration": 0.009082,
     "end_time": "2022-12-01T13:03:44.122095",
     "exception": false,
     "start_time": "2022-12-01T13:03:44.113013",
     "status": "completed"
    },
    "tags": []
   },
   "source": [
    "# Essentials"
   ]
  },
  {
   "cell_type": "code",
   "execution_count": 1,
   "id": "f710c0a7",
   "metadata": {
    "_cell_guid": "b1076dfc-b9ad-4769-8c92-a6c4dae69d19",
    "_uuid": "8f2839f25d086af736a60e9eeb907d3b93b6e0e5",
    "execution": {
     "iopub.execute_input": "2022-12-01T13:03:44.140135Z",
     "iopub.status.busy": "2022-12-01T13:03:44.139718Z",
     "iopub.status.idle": "2022-12-01T13:03:44.150484Z",
     "shell.execute_reply": "2022-12-01T13:03:44.149154Z"
    },
    "papermill": {
     "duration": 0.022984,
     "end_time": "2022-12-01T13:03:44.153236",
     "exception": false,
     "start_time": "2022-12-01T13:03:44.130252",
     "status": "completed"
    },
    "tags": []
   },
   "outputs": [
    {
     "name": "stdout",
     "output_type": "stream",
     "text": [
      "/kaggle/input/marketing-strategy-personalised-offer/sample.csv\n",
      "/kaggle/input/marketing-strategy-personalised-offer/train_data.csv\n",
      "/kaggle/input/marketing-strategy-personalised-offer/test_data.csv\n"
     ]
    }
   ],
   "source": [
    "import os\n",
    "for dirname, _, filenames in os.walk('/kaggle/input'):\n",
    "    for filename in filenames:\n",
    "        print(os.path.join(dirname, filename))"
   ]
  },
  {
   "cell_type": "code",
   "execution_count": 2,
   "id": "0ee551e5",
   "metadata": {
    "execution": {
     "iopub.execute_input": "2022-12-01T13:03:44.172160Z",
     "iopub.status.busy": "2022-12-01T13:03:44.171761Z",
     "iopub.status.idle": "2022-12-01T13:03:44.176569Z",
     "shell.execute_reply": "2022-12-01T13:03:44.175567Z"
    },
    "papermill": {
     "duration": 0.016107,
     "end_time": "2022-12-01T13:03:44.178268",
     "exception": false,
     "start_time": "2022-12-01T13:03:44.162161",
     "status": "completed"
    },
    "tags": []
   },
   "outputs": [],
   "source": [
    "import pandas as pd, numpy as np, matplotlib.pyplot as plt"
   ]
  },
  {
   "cell_type": "code",
   "execution_count": 3,
   "id": "8d086135",
   "metadata": {
    "execution": {
     "iopub.execute_input": "2022-12-01T13:03:44.196827Z",
     "iopub.status.busy": "2022-12-01T13:03:44.196450Z",
     "iopub.status.idle": "2022-12-01T13:03:44.321483Z",
     "shell.execute_reply": "2022-12-01T13:03:44.320699Z"
    },
    "papermill": {
     "duration": 0.136138,
     "end_time": "2022-12-01T13:03:44.323587",
     "exception": false,
     "start_time": "2022-12-01T13:03:44.187449",
     "status": "completed"
    },
    "tags": []
   },
   "outputs": [],
   "source": [
    "raw_train = pd.read_csv(\"/kaggle/input/marketing-strategy-personalised-offer/train_data.csv\")\n",
    "raw_test = pd.read_csv(\"/kaggle/input/marketing-strategy-personalised-offer/test_data.csv\")"
   ]
  },
  {
   "cell_type": "markdown",
   "id": "5ae85916",
   "metadata": {
    "papermill": {
     "duration": 0.007644,
     "end_time": "2022-12-01T13:03:44.339452",
     "exception": false,
     "start_time": "2022-12-01T13:03:44.331808",
     "status": "completed"
    },
    "tags": []
   },
   "source": [
    "## Data statistics"
   ]
  },
  {
   "cell_type": "code",
   "execution_count": 4,
   "id": "6e487820",
   "metadata": {
    "execution": {
     "iopub.execute_input": "2022-12-01T13:03:44.356600Z",
     "iopub.status.busy": "2022-12-01T13:03:44.356274Z",
     "iopub.status.idle": "2022-12-01T13:03:44.371504Z",
     "shell.execute_reply": "2022-12-01T13:03:44.370650Z"
    },
    "papermill": {
     "duration": 0.026015,
     "end_time": "2022-12-01T13:03:44.373318",
     "exception": false,
     "start_time": "2022-12-01T13:03:44.347303",
     "status": "completed"
    },
    "tags": []
   },
   "outputs": [
    {
     "data": {
      "text/plain": [
       "((12379, 31),\n",
       " (5305, 30),\n",
       " object    18\n",
       " int64     13\n",
       " dtype: int64)"
      ]
     },
     "execution_count": 4,
     "metadata": {},
     "output_type": "execute_result"
    }
   ],
   "source": [
    "raw_train.shape, raw_test.shape, raw_train.dtypes.sort_values().value_counts()"
   ]
  },
  {
   "cell_type": "code",
   "execution_count": 5,
   "id": "e54ba30f",
   "metadata": {
    "execution": {
     "iopub.execute_input": "2022-12-01T13:03:44.390628Z",
     "iopub.status.busy": "2022-12-01T13:03:44.390356Z",
     "iopub.status.idle": "2022-12-01T13:03:44.404752Z",
     "shell.execute_reply": "2022-12-01T13:03:44.404200Z"
    },
    "papermill": {
     "duration": 0.024835,
     "end_time": "2022-12-01T13:03:44.406241",
     "exception": false,
     "start_time": "2022-12-01T13:03:44.381406",
     "status": "completed"
    },
    "tags": []
   },
   "outputs": [
    {
     "data": {
      "text/plain": [
       "car                                     12268\n",
       "no_visited_Cold drinks                    198\n",
       "Restaur_spend_greater_than20              160\n",
       "no_Take-aways                             144\n",
       "Restaur_spend_less_than20                 121\n",
       "no_visited_bars                            93\n",
       "drop location                               0\n",
       "Climate                                     0\n",
       "Travel Time                                 0\n",
       "is foodie                                   0\n",
       "temperature                                 0\n",
       "visit restaurant with rating (avg)          0\n",
       "has Children                                0\n",
       "Prefer home food                            0\n",
       "restuarant_opposite_direction_house         0\n",
       "Job/Job Industry                            0\n",
       "offer expiration                            0\n",
       "Cooks regularly                             0\n",
       "Qualification                               0\n",
       "Customer type                               0\n",
       "income_range                                0\n",
       "restuarant_same_direction_house             0\n",
       "gender                                      0\n",
       "travelled_more_than_5mins_for_offer         0\n",
       "travelled_more_than_25mins_for_offer        0\n",
       "Prefer western over chinese                 0\n",
       "age                                         0\n",
       "restaurant type                             0\n",
       "Marital Status                              0\n",
       "travelled_more_than_15mins_for_offer        0\n",
       "Offer Accepted                              0\n",
       "dtype: int64"
      ]
     },
     "execution_count": 5,
     "metadata": {},
     "output_type": "execute_result"
    }
   ],
   "source": [
    "raw_train.isna().sum().sort_values(ascending=False)"
   ]
  },
  {
   "cell_type": "code",
   "execution_count": 6,
   "id": "7e11176d",
   "metadata": {
    "execution": {
     "iopub.execute_input": "2022-12-01T13:03:44.423984Z",
     "iopub.status.busy": "2022-12-01T13:03:44.423682Z",
     "iopub.status.idle": "2022-12-01T13:03:44.447293Z",
     "shell.execute_reply": "2022-12-01T13:03:44.446598Z"
    },
    "papermill": {
     "duration": 0.034691,
     "end_time": "2022-12-01T13:03:44.449126",
     "exception": false,
     "start_time": "2022-12-01T13:03:44.414435",
     "status": "completed"
    },
    "tags": []
   },
   "outputs": [
    {
     "data": {
      "text/plain": [
       "Cooks regularly                          int64\n",
       "Travel Time                              int64\n",
       "temperature                              int64\n",
       "visit restaurant with rating (avg)       int64\n",
       "has Children                             int64\n",
       "restuarant_opposite_direction_house      int64\n",
       "is foodie                                int64\n",
       "restuarant_same_direction_house          int64\n",
       "travelled_more_than_5mins_for_offer      int64\n",
       "Prefer home food                         int64\n",
       "Prefer western over chinese              int64\n",
       "travelled_more_than_15mins_for_offer     int64\n",
       "travelled_more_than_25mins_for_offer     int64\n",
       "Climate                                 object\n",
       "income_range                            object\n",
       "Restaur_spend_greater_than20            object\n",
       "no_visited_Cold drinks                  object\n",
       "Restaur_spend_less_than20               object\n",
       "Marital Status                          object\n",
       "Job/Job Industry                        object\n",
       "restaurant type                         object\n",
       "Qualification                           object\n",
       "Customer type                           object\n",
       "drop location                           object\n",
       "age                                     object\n",
       "gender                                  object\n",
       "no_visited_bars                         object\n",
       "no_Take-aways                           object\n",
       "offer expiration                        object\n",
       "dtype: object"
      ]
     },
     "execution_count": 6,
     "metadata": {},
     "output_type": "execute_result"
    }
   ],
   "source": [
    "x_train = raw_train.copy()\n",
    "y_train = x_train[\"Offer Accepted\"].copy()\n",
    "x_test = raw_test.copy()\n",
    "\n",
    "x_train.drop('Offer Accepted', axis=1, inplace=True)\n",
    "x_train.drop('car', axis=1, inplace=True)\n",
    "x_test.drop('car', axis=1, inplace=True)\n",
    "\n",
    "x_train.dtypes.sort_values()"
   ]
  },
  {
   "cell_type": "code",
   "execution_count": 7,
   "id": "7941e920",
   "metadata": {
    "execution": {
     "iopub.execute_input": "2022-12-01T13:03:44.467236Z",
     "iopub.status.busy": "2022-12-01T13:03:44.466683Z",
     "iopub.status.idle": "2022-12-01T13:03:44.472493Z",
     "shell.execute_reply": "2022-12-01T13:03:44.471920Z"
    },
    "papermill": {
     "duration": 0.016417,
     "end_time": "2022-12-01T13:03:44.473920",
     "exception": false,
     "start_time": "2022-12-01T13:03:44.457503",
     "status": "completed"
    },
    "tags": []
   },
   "outputs": [
    {
     "data": {
      "text/plain": [
       "array(['No', 'Yes'], dtype=object)"
      ]
     },
     "execution_count": 7,
     "metadata": {},
     "output_type": "execute_result"
    }
   ],
   "source": [
    "y_train.unique()"
   ]
  },
  {
   "cell_type": "markdown",
   "id": "a28713fb",
   "metadata": {
    "papermill": {
     "duration": 0.008068,
     "end_time": "2022-12-01T13:03:44.490430",
     "exception": false,
     "start_time": "2022-12-01T13:03:44.482362",
     "status": "completed"
    },
    "tags": []
   },
   "source": [
    "**Problem is of binary classification type - (Yes / No)**"
   ]
  },
  {
   "cell_type": "code",
   "execution_count": 8,
   "id": "dc9cd652",
   "metadata": {
    "execution": {
     "iopub.execute_input": "2022-12-01T13:03:44.508900Z",
     "iopub.status.busy": "2022-12-01T13:03:44.508332Z",
     "iopub.status.idle": "2022-12-01T13:03:44.523060Z",
     "shell.execute_reply": "2022-12-01T13:03:44.522241Z"
    },
    "papermill": {
     "duration": 0.02614,
     "end_time": "2022-12-01T13:03:44.524902",
     "exception": false,
     "start_time": "2022-12-01T13:03:44.498762",
     "status": "completed"
    },
    "tags": []
   },
   "outputs": [
    {
     "data": {
      "text/plain": [
       "no_visited_Cold drinks                  198\n",
       "Restaur_spend_greater_than20            160\n",
       "no_Take-aways                           144\n",
       "Restaur_spend_less_than20               121\n",
       "no_visited_bars                          93\n",
       "offer expiration                          0\n",
       "Qualification                             0\n",
       "drop location                             0\n",
       "Climate                                   0\n",
       "Travel Time                               0\n",
       "temperature                               0\n",
       "visit restaurant with rating (avg)        0\n",
       "has Children                              0\n",
       "restuarant_opposite_direction_house       0\n",
       "Job/Job Industry                          0\n",
       "is foodie                                 0\n",
       "Cooks regularly                           0\n",
       "Customer type                             0\n",
       "income_range                              0\n",
       "restuarant_same_direction_house           0\n",
       "gender                                    0\n",
       "travelled_more_than_5mins_for_offer       0\n",
       "travelled_more_than_25mins_for_offer      0\n",
       "Prefer western over chinese               0\n",
       "age                                       0\n",
       "restaurant type                           0\n",
       "Marital Status                            0\n",
       "travelled_more_than_15mins_for_offer      0\n",
       "Prefer home food                          0\n",
       "dtype: int64"
      ]
     },
     "execution_count": 8,
     "metadata": {},
     "output_type": "execute_result"
    }
   ],
   "source": [
    "x_train.isna().sum().sort_values(ascending=False)"
   ]
  },
  {
   "cell_type": "markdown",
   "id": "dc71eeb4",
   "metadata": {
    "papermill": {
     "duration": 0.00831,
     "end_time": "2022-12-01T13:03:44.542178",
     "exception": false,
     "start_time": "2022-12-01T13:03:44.533868",
     "status": "completed"
    },
    "tags": []
   },
   "source": [
    "* Features and labels have been split\n",
    "* Features have categorical and numerical values\n",
    "* Missing values are only in the categorical features\n",
    "    * Since feature 'car' has the missing values comparable to data, thus can be dropped"
   ]
  },
  {
   "cell_type": "code",
   "execution_count": 9,
   "id": "8d5858b1",
   "metadata": {
    "execution": {
     "iopub.execute_input": "2022-12-01T13:03:44.561287Z",
     "iopub.status.busy": "2022-12-01T13:03:44.560532Z",
     "iopub.status.idle": "2022-12-01T13:03:44.568297Z",
     "shell.execute_reply": "2022-12-01T13:03:44.567341Z"
    },
    "papermill": {
     "duration": 0.019276,
     "end_time": "2022-12-01T13:03:44.570052",
     "exception": false,
     "start_time": "2022-12-01T13:03:44.550776",
     "status": "completed"
    },
    "tags": []
   },
   "outputs": [
    {
     "data": {
      "text/plain": [
       "object    16\n",
       "int64     13\n",
       "dtype: int64"
      ]
     },
     "execution_count": 9,
     "metadata": {},
     "output_type": "execute_result"
    }
   ],
   "source": [
    "x_train.dtypes.value_counts()"
   ]
  },
  {
   "cell_type": "markdown",
   "id": "f121daea",
   "metadata": {
    "papermill": {
     "duration": 0.008784,
     "end_time": "2022-12-01T13:03:44.588563",
     "exception": false,
     "start_time": "2022-12-01T13:03:44.579779",
     "status": "completed"
    },
    "tags": []
   },
   "source": [
    "# Phase 1\n",
    "# Data preprocessing"
   ]
  },
  {
   "cell_type": "markdown",
   "id": "c02e1f88",
   "metadata": {
    "papermill": {
     "duration": 0.00858,
     "end_time": "2022-12-01T13:03:44.606139",
     "exception": false,
     "start_time": "2022-12-01T13:03:44.597559",
     "status": "completed"
    },
    "tags": []
   },
   "source": [
    "**Data wrangling**\n",
    "* Feature imputation\n",
    "* Categorical and numerical transformers\n",
    "* Feature scaling"
   ]
  },
  {
   "cell_type": "code",
   "execution_count": 10,
   "id": "c5ffad71",
   "metadata": {
    "execution": {
     "iopub.execute_input": "2022-12-01T13:03:44.625904Z",
     "iopub.status.busy": "2022-12-01T13:03:44.625570Z",
     "iopub.status.idle": "2022-12-01T13:03:44.660799Z",
     "shell.execute_reply": "2022-12-01T13:03:44.659852Z"
    },
    "papermill": {
     "duration": 0.047736,
     "end_time": "2022-12-01T13:03:44.663084",
     "exception": false,
     "start_time": "2022-12-01T13:03:44.615348",
     "status": "completed"
    },
    "tags": []
   },
   "outputs": [],
   "source": [
    "#before = x_train.shape\n",
    "\n",
    "# shorthand code - drop columns that only contain one value\n",
    "x_train.drop([i for i in x_train.columns if len(x_train[i].unique())==1], axis=1, inplace=True)\n",
    "\n",
    "# repeat for test data\n",
    "x_test.drop([i for i in x_test.columns if len(x_test[i].unique())==1], axis=1, inplace=True)\n",
    "\n",
    "#after = x_train.shape\n",
    "#before, after"
   ]
  },
  {
   "cell_type": "code",
   "execution_count": 11,
   "id": "9545b876",
   "metadata": {
    "execution": {
     "iopub.execute_input": "2022-12-01T13:03:44.683004Z",
     "iopub.status.busy": "2022-12-01T13:03:44.681947Z",
     "iopub.status.idle": "2022-12-01T13:03:44.688453Z",
     "shell.execute_reply": "2022-12-01T13:03:44.687594Z"
    },
    "papermill": {
     "duration": 0.017842,
     "end_time": "2022-12-01T13:03:44.690147",
     "exception": false,
     "start_time": "2022-12-01T13:03:44.672305",
     "status": "completed"
    },
    "tags": []
   },
   "outputs": [],
   "source": [
    "# list numerical and categorical features\n",
    "\n",
    "numerical, categorical = [], []\n",
    "\n",
    "for i in x_train.columns:\n",
    "    x = x_train[i].dtype\n",
    "    if (x=='int64'):\n",
    "        numerical.append(i)\n",
    "    elif (x=='O'):\n",
    "        categorical.append(i)\n",
    "        \n",
    "# categorical, numerical"
   ]
  },
  {
   "cell_type": "markdown",
   "id": "d5a77546",
   "metadata": {
    "papermill": {
     "duration": 0.008287,
     "end_time": "2022-12-01T13:03:44.707128",
     "exception": false,
     "start_time": "2022-12-01T13:03:44.698841",
     "status": "completed"
    },
    "tags": []
   },
   "source": [
    "## Feature imputation"
   ]
  },
  {
   "cell_type": "code",
   "execution_count": 12,
   "id": "728b08f3",
   "metadata": {
    "execution": {
     "iopub.execute_input": "2022-12-01T13:03:44.725885Z",
     "iopub.status.busy": "2022-12-01T13:03:44.725544Z",
     "iopub.status.idle": "2022-12-01T13:03:45.752426Z",
     "shell.execute_reply": "2022-12-01T13:03:45.751487Z"
    },
    "papermill": {
     "duration": 1.039315,
     "end_time": "2022-12-01T13:03:45.755008",
     "exception": false,
     "start_time": "2022-12-01T13:03:44.715693",
     "status": "completed"
    },
    "tags": []
   },
   "outputs": [],
   "source": [
    "from sklearn.impute import SimpleImputer"
   ]
  },
  {
   "cell_type": "code",
   "execution_count": 13,
   "id": "9d5d4bff",
   "metadata": {
    "execution": {
     "iopub.execute_input": "2022-12-01T13:03:45.774449Z",
     "iopub.status.busy": "2022-12-01T13:03:45.774150Z",
     "iopub.status.idle": "2022-12-01T13:03:45.850048Z",
     "shell.execute_reply": "2022-12-01T13:03:45.848799Z"
    },
    "papermill": {
     "duration": 0.08814,
     "end_time": "2022-12-01T13:03:45.852478",
     "exception": false,
     "start_time": "2022-12-01T13:03:45.764338",
     "status": "completed"
    },
    "tags": []
   },
   "outputs": [
    {
     "data": {
      "text/html": [
       "<div>\n",
       "<style scoped>\n",
       "    .dataframe tbody tr th:only-of-type {\n",
       "        vertical-align: middle;\n",
       "    }\n",
       "\n",
       "    .dataframe tbody tr th {\n",
       "        vertical-align: top;\n",
       "    }\n",
       "\n",
       "    .dataframe thead th {\n",
       "        text-align: right;\n",
       "    }\n",
       "</style>\n",
       "<table border=\"1\" class=\"dataframe\">\n",
       "  <thead>\n",
       "    <tr style=\"text-align: right;\">\n",
       "      <th></th>\n",
       "      <th>offer expiration</th>\n",
       "      <th>income_range</th>\n",
       "      <th>no_visited_Cold drinks</th>\n",
       "      <th>Restaur_spend_less_than20</th>\n",
       "      <th>Marital Status</th>\n",
       "      <th>restaurant type</th>\n",
       "      <th>age</th>\n",
       "      <th>no_visited_bars</th>\n",
       "      <th>gender</th>\n",
       "      <th>Customer type</th>\n",
       "      <th>...</th>\n",
       "      <th>travelled_more_than_25mins_for_offer</th>\n",
       "      <th>restuarant_same_direction_house</th>\n",
       "      <th>Cooks regularly</th>\n",
       "      <th>is foodie</th>\n",
       "      <th>restuarant_opposite_direction_house</th>\n",
       "      <th>has Children</th>\n",
       "      <th>visit restaurant with rating (avg)</th>\n",
       "      <th>temperature</th>\n",
       "      <th>Travel Time</th>\n",
       "      <th>Prefer home food</th>\n",
       "    </tr>\n",
       "  </thead>\n",
       "  <tbody>\n",
       "    <tr>\n",
       "      <th>0</th>\n",
       "      <td>2days</td>\n",
       "      <td>₹100000 or More</td>\n",
       "      <td>4~8</td>\n",
       "      <td>less1</td>\n",
       "      <td>Married partner</td>\n",
       "      <td>4 star restaurant</td>\n",
       "      <td>36</td>\n",
       "      <td>less1</td>\n",
       "      <td>Female</td>\n",
       "      <td>Individual</td>\n",
       "      <td>...</td>\n",
       "      <td>0</td>\n",
       "      <td>0</td>\n",
       "      <td>1</td>\n",
       "      <td>0</td>\n",
       "      <td>0</td>\n",
       "      <td>0</td>\n",
       "      <td>4</td>\n",
       "      <td>67</td>\n",
       "      <td>22</td>\n",
       "      <td>0</td>\n",
       "    </tr>\n",
       "    <tr>\n",
       "      <th>1</th>\n",
       "      <td>2days</td>\n",
       "      <td>₹87500 - ₹99999</td>\n",
       "      <td>4~8</td>\n",
       "      <td>4~8</td>\n",
       "      <td>Married partner</td>\n",
       "      <td>Take-away restaurant</td>\n",
       "      <td>50plus</td>\n",
       "      <td>never</td>\n",
       "      <td>Female</td>\n",
       "      <td>Individual</td>\n",
       "      <td>...</td>\n",
       "      <td>0</td>\n",
       "      <td>1</td>\n",
       "      <td>1</td>\n",
       "      <td>0</td>\n",
       "      <td>0</td>\n",
       "      <td>1</td>\n",
       "      <td>3</td>\n",
       "      <td>89</td>\n",
       "      <td>18</td>\n",
       "      <td>0</td>\n",
       "    </tr>\n",
       "    <tr>\n",
       "      <th>2</th>\n",
       "      <td>2days</td>\n",
       "      <td>₹87500 - ₹99999</td>\n",
       "      <td>less1</td>\n",
       "      <td>1~3</td>\n",
       "      <td>Single</td>\n",
       "      <td>Cold drinks</td>\n",
       "      <td>26</td>\n",
       "      <td>never</td>\n",
       "      <td>Female</td>\n",
       "      <td>Individual</td>\n",
       "      <td>...</td>\n",
       "      <td>0</td>\n",
       "      <td>1</td>\n",
       "      <td>0</td>\n",
       "      <td>1</td>\n",
       "      <td>1</td>\n",
       "      <td>1</td>\n",
       "      <td>4</td>\n",
       "      <td>67</td>\n",
       "      <td>7</td>\n",
       "      <td>1</td>\n",
       "    </tr>\n",
       "    <tr>\n",
       "      <th>3</th>\n",
       "      <td>10hours</td>\n",
       "      <td>₹37500 - ₹49999</td>\n",
       "      <td>less1</td>\n",
       "      <td>1~3</td>\n",
       "      <td>Single</td>\n",
       "      <td>Take-away restaurant</td>\n",
       "      <td>46</td>\n",
       "      <td>never</td>\n",
       "      <td>Male</td>\n",
       "      <td>Individual</td>\n",
       "      <td>...</td>\n",
       "      <td>0</td>\n",
       "      <td>1</td>\n",
       "      <td>0</td>\n",
       "      <td>1</td>\n",
       "      <td>0</td>\n",
       "      <td>1</td>\n",
       "      <td>3</td>\n",
       "      <td>89</td>\n",
       "      <td>7</td>\n",
       "      <td>0</td>\n",
       "    </tr>\n",
       "    <tr>\n",
       "      <th>4</th>\n",
       "      <td>2days</td>\n",
       "      <td>₹100000 or More</td>\n",
       "      <td>never</td>\n",
       "      <td>1~3</td>\n",
       "      <td>Single</td>\n",
       "      <td>4 star restaurant</td>\n",
       "      <td>21</td>\n",
       "      <td>less1</td>\n",
       "      <td>Female</td>\n",
       "      <td>Individual</td>\n",
       "      <td>...</td>\n",
       "      <td>1</td>\n",
       "      <td>0</td>\n",
       "      <td>0</td>\n",
       "      <td>1</td>\n",
       "      <td>1</td>\n",
       "      <td>0</td>\n",
       "      <td>3</td>\n",
       "      <td>40</td>\n",
       "      <td>7</td>\n",
       "      <td>0</td>\n",
       "    </tr>\n",
       "  </tbody>\n",
       "</table>\n",
       "<p>5 rows × 28 columns</p>\n",
       "</div>"
      ],
      "text/plain": [
       "  offer expiration     income_range no_visited_Cold drinks  \\\n",
       "0            2days  ₹100000 or More                    4~8   \n",
       "1            2days  ₹87500 - ₹99999                    4~8   \n",
       "2            2days  ₹87500 - ₹99999                  less1   \n",
       "3          10hours  ₹37500 - ₹49999                  less1   \n",
       "4            2days  ₹100000 or More                  never   \n",
       "\n",
       "  Restaur_spend_less_than20   Marital Status       restaurant type     age  \\\n",
       "0                     less1  Married partner     4 star restaurant      36   \n",
       "1                       4~8  Married partner  Take-away restaurant  50plus   \n",
       "2                       1~3           Single           Cold drinks      26   \n",
       "3                       1~3           Single  Take-away restaurant      46   \n",
       "4                       1~3           Single     4 star restaurant      21   \n",
       "\n",
       "  no_visited_bars  gender Customer type  ...  \\\n",
       "0           less1  Female    Individual  ...   \n",
       "1           never  Female    Individual  ...   \n",
       "2           never  Female    Individual  ...   \n",
       "3           never    Male    Individual  ...   \n",
       "4           less1  Female    Individual  ...   \n",
       "\n",
       "  travelled_more_than_25mins_for_offer restuarant_same_direction_house  \\\n",
       "0                                    0                               0   \n",
       "1                                    0                               1   \n",
       "2                                    0                               1   \n",
       "3                                    0                               1   \n",
       "4                                    1                               0   \n",
       "\n",
       "  Cooks regularly is foodie restuarant_opposite_direction_house has Children  \\\n",
       "0               1         0                                   0            0   \n",
       "1               1         0                                   0            1   \n",
       "2               0         1                                   1            1   \n",
       "3               0         1                                   0            1   \n",
       "4               0         1                                   1            0   \n",
       "\n",
       "   visit restaurant with rating (avg)  temperature  Travel Time  \\\n",
       "0                                   4           67           22   \n",
       "1                                   3           89           18   \n",
       "2                                   4           67            7   \n",
       "3                                   3           89            7   \n",
       "4                                   3           40            7   \n",
       "\n",
       "   Prefer home food  \n",
       "0                 0  \n",
       "1                 0  \n",
       "2                 1  \n",
       "3                 0  \n",
       "4                 0  \n",
       "\n",
       "[5 rows x 28 columns]"
      ]
     },
     "execution_count": 13,
     "metadata": {},
     "output_type": "execute_result"
    }
   ],
   "source": [
    "si = SimpleImputer(strategy=\"most_frequent\")\n",
    "\n",
    "# separate dataframes for categorical and numerical features\n",
    "numdf_tr = x_train[numerical]\n",
    "catdf_tr = x_train[categorical]\n",
    "\n",
    "# impute missing values in categorical features and concatnate with numerical\n",
    "catdf_tr = pd.DataFrame(si.fit_transform(catdf_tr), columns=catdf_tr.columns)\n",
    "x_train = pd.concat([catdf_tr, numdf_tr], axis=1)\n",
    "\n",
    "# repeat for test data\n",
    "numdf_te = x_test[numerical]\n",
    "catdf_te = x_test[categorical]\n",
    "\n",
    "catdf_te = pd.DataFrame(si.fit_transform(catdf_te), columns=catdf_tr.columns) # putting catdf_tr columns as a check\n",
    "x_test = pd.concat([catdf_te, numdf_te], axis=1)\n",
    "\n",
    "x_train.head()"
   ]
  },
  {
   "cell_type": "code",
   "execution_count": 14,
   "id": "9e45a8d9",
   "metadata": {
    "execution": {
     "iopub.execute_input": "2022-12-01T13:03:45.872972Z",
     "iopub.status.busy": "2022-12-01T13:03:45.872604Z",
     "iopub.status.idle": "2022-12-01T13:03:45.880453Z",
     "shell.execute_reply": "2022-12-01T13:03:45.879369Z"
    },
    "papermill": {
     "duration": 0.020276,
     "end_time": "2022-12-01T13:03:45.882621",
     "exception": false,
     "start_time": "2022-12-01T13:03:45.862345",
     "status": "completed"
    },
    "tags": []
   },
   "outputs": [
    {
     "data": {
      "text/plain": [
       "object    16\n",
       "int64     12\n",
       "dtype: int64"
      ]
     },
     "execution_count": 14,
     "metadata": {},
     "output_type": "execute_result"
    }
   ],
   "source": [
    "x_train.dtypes.value_counts()"
   ]
  },
  {
   "cell_type": "markdown",
   "id": "c44a27e5",
   "metadata": {
    "papermill": {
     "duration": 0.009068,
     "end_time": "2022-12-01T13:03:45.901472",
     "exception": false,
     "start_time": "2022-12-01T13:03:45.892404",
     "status": "completed"
    },
    "tags": []
   },
   "source": [
    "**Features imputation done, now we can apply encoders**\n",
    "**Categorical features should be divided into ordinal and nominal and encoders should be applied accordingly**"
   ]
  },
  {
   "cell_type": "code",
   "execution_count": 15,
   "id": "9b0c3c8d",
   "metadata": {
    "execution": {
     "iopub.execute_input": "2022-12-01T13:03:45.921803Z",
     "iopub.status.busy": "2022-12-01T13:03:45.921273Z",
     "iopub.status.idle": "2022-12-01T13:03:45.951773Z",
     "shell.execute_reply": "2022-12-01T13:03:45.950446Z"
    },
    "papermill": {
     "duration": 0.043064,
     "end_time": "2022-12-01T13:03:45.953889",
     "exception": false,
     "start_time": "2022-12-01T13:03:45.910825",
     "status": "completed"
    },
    "tags": []
   },
   "outputs": [
    {
     "data": {
      "text/html": [
       "<div>\n",
       "<style scoped>\n",
       "    .dataframe tbody tr th:only-of-type {\n",
       "        vertical-align: middle;\n",
       "    }\n",
       "\n",
       "    .dataframe tbody tr th {\n",
       "        vertical-align: top;\n",
       "    }\n",
       "\n",
       "    .dataframe thead th {\n",
       "        text-align: right;\n",
       "    }\n",
       "</style>\n",
       "<table border=\"1\" class=\"dataframe\">\n",
       "  <thead>\n",
       "    <tr style=\"text-align: right;\">\n",
       "      <th></th>\n",
       "      <th>features</th>\n",
       "      <th>unique values</th>\n",
       "    </tr>\n",
       "  </thead>\n",
       "  <tbody>\n",
       "    <tr>\n",
       "      <th>0</th>\n",
       "      <td>Climate</td>\n",
       "      <td>[Spring, Summer, Winter]</td>\n",
       "    </tr>\n",
       "    <tr>\n",
       "      <th>1</th>\n",
       "      <td>Customer type</td>\n",
       "      <td>[Individual, With Family, With Kids, With Coll...</td>\n",
       "    </tr>\n",
       "    <tr>\n",
       "      <th>2</th>\n",
       "      <td>Job/Job Industry</td>\n",
       "      <td>[Unemployed, Arts Design Entertainment Sports ...</td>\n",
       "    </tr>\n",
       "    <tr>\n",
       "      <th>3</th>\n",
       "      <td>Marital Status</td>\n",
       "      <td>[Married partner, Single, Divorced, Unmarried ...</td>\n",
       "    </tr>\n",
       "    <tr>\n",
       "      <th>4</th>\n",
       "      <td>Qualification</td>\n",
       "      <td>[Bachelors degree, Some college - no degree, G...</td>\n",
       "    </tr>\n",
       "    <tr>\n",
       "      <th>5</th>\n",
       "      <td>Restaur_spend_greater_than20</td>\n",
       "      <td>[less1, 1~3, never, gt8, 4~8]</td>\n",
       "    </tr>\n",
       "    <tr>\n",
       "      <th>6</th>\n",
       "      <td>Restaur_spend_less_than20</td>\n",
       "      <td>[less1, 4~8, 1~3, gt8, never]</td>\n",
       "    </tr>\n",
       "    <tr>\n",
       "      <th>7</th>\n",
       "      <td>age</td>\n",
       "      <td>[36, 50plus, 26, 46, 21, below21, 41, 31]</td>\n",
       "    </tr>\n",
       "    <tr>\n",
       "      <th>8</th>\n",
       "      <td>drop location</td>\n",
       "      <td>[Location B, Location A, Location C]</td>\n",
       "    </tr>\n",
       "    <tr>\n",
       "      <th>9</th>\n",
       "      <td>gender</td>\n",
       "      <td>[Female, Male]</td>\n",
       "    </tr>\n",
       "    <tr>\n",
       "      <th>10</th>\n",
       "      <td>income_range</td>\n",
       "      <td>[₹100000 or More, ₹87500 - ₹99999, ₹37500 - ₹4...</td>\n",
       "    </tr>\n",
       "    <tr>\n",
       "      <th>11</th>\n",
       "      <td>no_Take-aways</td>\n",
       "      <td>[1~3, gt8, 4~8, less1, never]</td>\n",
       "    </tr>\n",
       "    <tr>\n",
       "      <th>12</th>\n",
       "      <td>no_visited_Cold drinks</td>\n",
       "      <td>[4~8, less1, never, 1~3, gt8]</td>\n",
       "    </tr>\n",
       "    <tr>\n",
       "      <th>13</th>\n",
       "      <td>no_visited_bars</td>\n",
       "      <td>[less1, never, 1~3, 4~8, gt8]</td>\n",
       "    </tr>\n",
       "    <tr>\n",
       "      <th>14</th>\n",
       "      <td>offer expiration</td>\n",
       "      <td>[2days, 10hours]</td>\n",
       "    </tr>\n",
       "    <tr>\n",
       "      <th>15</th>\n",
       "      <td>restaurant type</td>\n",
       "      <td>[4 star restaurant, Take-away restaurant, Cold...</td>\n",
       "    </tr>\n",
       "  </tbody>\n",
       "</table>\n",
       "</div>"
      ],
      "text/plain": [
       "                        features  \\\n",
       "0                        Climate   \n",
       "1                  Customer type   \n",
       "2               Job/Job Industry   \n",
       "3                 Marital Status   \n",
       "4                  Qualification   \n",
       "5   Restaur_spend_greater_than20   \n",
       "6      Restaur_spend_less_than20   \n",
       "7                            age   \n",
       "8                  drop location   \n",
       "9                         gender   \n",
       "10                  income_range   \n",
       "11                 no_Take-aways   \n",
       "12        no_visited_Cold drinks   \n",
       "13               no_visited_bars   \n",
       "14              offer expiration   \n",
       "15               restaurant type   \n",
       "\n",
       "                                        unique values  \n",
       "0                            [Spring, Summer, Winter]  \n",
       "1   [Individual, With Family, With Kids, With Coll...  \n",
       "2   [Unemployed, Arts Design Entertainment Sports ...  \n",
       "3   [Married partner, Single, Divorced, Unmarried ...  \n",
       "4   [Bachelors degree, Some college - no degree, G...  \n",
       "5                       [less1, 1~3, never, gt8, 4~8]  \n",
       "6                       [less1, 4~8, 1~3, gt8, never]  \n",
       "7           [36, 50plus, 26, 46, 21, below21, 41, 31]  \n",
       "8                [Location B, Location A, Location C]  \n",
       "9                                      [Female, Male]  \n",
       "10  [₹100000 or More, ₹87500 - ₹99999, ₹37500 - ₹4...  \n",
       "11                      [1~3, gt8, 4~8, less1, never]  \n",
       "12                      [4~8, less1, never, 1~3, gt8]  \n",
       "13                      [less1, never, 1~3, 4~8, gt8]  \n",
       "14                                   [2days, 10hours]  \n",
       "15  [4 star restaurant, Take-away restaurant, Cold...  "
      ]
     },
     "execution_count": 15,
     "metadata": {},
     "output_type": "execute_result"
    }
   ],
   "source": [
    "unique = {}\n",
    "for i in sorted(categorical):\n",
    "    unique[i] = x_train[i].unique()\n",
    "    \n",
    "unique = pd.DataFrame(unique.items(), columns=['features', 'unique values'])\n",
    "unique"
   ]
  },
  {
   "cell_type": "code",
   "execution_count": 16,
   "id": "ecf8e974",
   "metadata": {
    "execution": {
     "iopub.execute_input": "2022-12-01T13:03:45.974421Z",
     "iopub.status.busy": "2022-12-01T13:03:45.974112Z",
     "iopub.status.idle": "2022-12-01T13:03:45.982233Z",
     "shell.execute_reply": "2022-12-01T13:03:45.981332Z"
    },
    "papermill": {
     "duration": 0.02072,
     "end_time": "2022-12-01T13:03:45.984492",
     "exception": false,
     "start_time": "2022-12-01T13:03:45.963772",
     "status": "completed"
    },
    "tags": []
   },
   "outputs": [
    {
     "data": {
      "text/plain": [
       "21         2602\n",
       "26         2543\n",
       "31         1929\n",
       "50plus     1756\n",
       "36         1259\n",
       "41         1060\n",
       "46          716\n",
       "below21     514\n",
       "Name: age, dtype: int64"
      ]
     },
     "execution_count": 16,
     "metadata": {},
     "output_type": "execute_result"
    }
   ],
   "source": [
    "x_train['age'].value_counts()"
   ]
  },
  {
   "cell_type": "markdown",
   "id": "30fcd734",
   "metadata": {
    "papermill": {
     "duration": 0.009143,
     "end_time": "2022-12-01T13:03:46.003593",
     "exception": false,
     "start_time": "2022-12-01T13:03:45.994450",
     "status": "completed"
    },
    "tags": []
   },
   "source": [
    "**We can group values in ['age'] into bins of below21, 21-50 and 50plus**"
   ]
  },
  {
   "cell_type": "code",
   "execution_count": 17,
   "id": "4f04e16c",
   "metadata": {
    "execution": {
     "iopub.execute_input": "2022-12-01T13:03:46.023769Z",
     "iopub.status.busy": "2022-12-01T13:03:46.023427Z",
     "iopub.status.idle": "2022-12-01T13:03:52.417513Z",
     "shell.execute_reply": "2022-12-01T13:03:52.416535Z"
    },
    "papermill": {
     "duration": 6.406503,
     "end_time": "2022-12-01T13:03:52.419390",
     "exception": false,
     "start_time": "2022-12-01T13:03:46.012887",
     "status": "completed"
    },
    "tags": []
   },
   "outputs": [
    {
     "data": {
      "text/plain": [
       "21to50     10109\n",
       "50plus      1756\n",
       "below21      514\n",
       "Name: age, dtype: int64"
      ]
     },
     "execution_count": 17,
     "metadata": {},
     "output_type": "execute_result"
    }
   ],
   "source": [
    "# create a series copy of age column\n",
    "age_tr = x_train['age'].copy()\n",
    "\n",
    "# iterate through to find values between 21 and 50\n",
    "# since age is in string format, we search by eliminating\n",
    "\n",
    "for i in range(len(age_tr)):\n",
    "    x = age_tr.loc[i]\n",
    "    if (x=='50plus' or x=='below21'):\n",
    "        pass\n",
    "    else:\n",
    "        age_tr = age_tr.replace(x, '21to50')\n",
    "\n",
    "# drop original age column and add transformed age searies column\n",
    "x_train.drop('age', axis=1, inplace=True)\n",
    "x_train['age'] = age_tr\n",
    "x_train['age'].value_counts()"
   ]
  },
  {
   "cell_type": "code",
   "execution_count": 18,
   "id": "9342994a",
   "metadata": {
    "execution": {
     "iopub.execute_input": "2022-12-01T13:03:52.440090Z",
     "iopub.status.busy": "2022-12-01T13:03:52.439701Z",
     "iopub.status.idle": "2022-12-01T13:03:54.037181Z",
     "shell.execute_reply": "2022-12-01T13:03:54.036009Z"
    },
    "papermill": {
     "duration": 1.610075,
     "end_time": "2022-12-01T13:03:54.039273",
     "exception": false,
     "start_time": "2022-12-01T13:03:52.429198",
     "status": "completed"
    },
    "tags": []
   },
   "outputs": [
    {
     "data": {
      "text/plain": [
       "21to50     4288\n",
       "50plus      772\n",
       "below21     245\n",
       "Name: age, dtype: int64"
      ]
     },
     "execution_count": 18,
     "metadata": {},
     "output_type": "execute_result"
    }
   ],
   "source": [
    "# repeat for test data\n",
    "\n",
    "age_te = x_test['age'].copy()\n",
    "\n",
    "for i in range(len(age_te)):\n",
    "    x = age_te.loc[i]\n",
    "    if (x=='50plus' or x=='below21'):\n",
    "        pass\n",
    "    else:\n",
    "        age_te = age_te.replace(x, '21to50')\n",
    "\n",
    "x_test.drop('age', axis=1, inplace=True)\n",
    "x_test['age'] = age_te\n",
    "x_test['age'].value_counts()"
   ]
  },
  {
   "cell_type": "code",
   "execution_count": 19,
   "id": "c24e842b",
   "metadata": {
    "execution": {
     "iopub.execute_input": "2022-12-01T13:03:54.061594Z",
     "iopub.status.busy": "2022-12-01T13:03:54.060697Z",
     "iopub.status.idle": "2022-12-01T13:03:54.075146Z",
     "shell.execute_reply": "2022-12-01T13:03:54.074137Z"
    },
    "papermill": {
     "duration": 0.027237,
     "end_time": "2022-12-01T13:03:54.076830",
     "exception": false,
     "start_time": "2022-12-01T13:03:54.049593",
     "status": "completed"
    },
    "tags": []
   },
   "outputs": [
    {
     "data": {
      "text/html": [
       "<div>\n",
       "<style scoped>\n",
       "    .dataframe tbody tr th:only-of-type {\n",
       "        vertical-align: middle;\n",
       "    }\n",
       "\n",
       "    .dataframe tbody tr th {\n",
       "        vertical-align: top;\n",
       "    }\n",
       "\n",
       "    .dataframe thead th {\n",
       "        text-align: right;\n",
       "    }\n",
       "</style>\n",
       "<table border=\"1\" class=\"dataframe\">\n",
       "  <thead>\n",
       "    <tr style=\"text-align: right;\">\n",
       "      <th></th>\n",
       "      <th>features</th>\n",
       "      <th>unique values</th>\n",
       "    </tr>\n",
       "  </thead>\n",
       "  <tbody>\n",
       "    <tr>\n",
       "      <th>0</th>\n",
       "      <td>Climate</td>\n",
       "      <td>[Spring, Summer, Winter]</td>\n",
       "    </tr>\n",
       "    <tr>\n",
       "      <th>1</th>\n",
       "      <td>Customer type</td>\n",
       "      <td>[Individual, With Family, With Kids, With Coll...</td>\n",
       "    </tr>\n",
       "    <tr>\n",
       "      <th>2</th>\n",
       "      <td>Job/Job Industry</td>\n",
       "      <td>[Unemployed, Arts Design Entertainment Sports ...</td>\n",
       "    </tr>\n",
       "    <tr>\n",
       "      <th>3</th>\n",
       "      <td>Marital Status</td>\n",
       "      <td>[Married partner, Single, Divorced, Unmarried ...</td>\n",
       "    </tr>\n",
       "    <tr>\n",
       "      <th>4</th>\n",
       "      <td>Qualification</td>\n",
       "      <td>[Bachelors degree, Some college - no degree, G...</td>\n",
       "    </tr>\n",
       "    <tr>\n",
       "      <th>5</th>\n",
       "      <td>Restaur_spend_greater_than20</td>\n",
       "      <td>[less1, 1~3, never, gt8, 4~8]</td>\n",
       "    </tr>\n",
       "    <tr>\n",
       "      <th>6</th>\n",
       "      <td>Restaur_spend_less_than20</td>\n",
       "      <td>[less1, 4~8, 1~3, gt8, never]</td>\n",
       "    </tr>\n",
       "    <tr>\n",
       "      <th>7</th>\n",
       "      <td>age</td>\n",
       "      <td>[36, 50plus, 26, 46, 21, below21, 41, 31]</td>\n",
       "    </tr>\n",
       "    <tr>\n",
       "      <th>8</th>\n",
       "      <td>drop location</td>\n",
       "      <td>[Location B, Location A, Location C]</td>\n",
       "    </tr>\n",
       "    <tr>\n",
       "      <th>9</th>\n",
       "      <td>gender</td>\n",
       "      <td>[Female, Male]</td>\n",
       "    </tr>\n",
       "    <tr>\n",
       "      <th>10</th>\n",
       "      <td>income_range</td>\n",
       "      <td>[₹100000 or More, ₹87500 - ₹99999, ₹37500 - ₹4...</td>\n",
       "    </tr>\n",
       "    <tr>\n",
       "      <th>11</th>\n",
       "      <td>no_Take-aways</td>\n",
       "      <td>[1~3, gt8, 4~8, less1, never]</td>\n",
       "    </tr>\n",
       "    <tr>\n",
       "      <th>12</th>\n",
       "      <td>no_visited_Cold drinks</td>\n",
       "      <td>[4~8, less1, never, 1~3, gt8]</td>\n",
       "    </tr>\n",
       "    <tr>\n",
       "      <th>13</th>\n",
       "      <td>no_visited_bars</td>\n",
       "      <td>[less1, never, 1~3, 4~8, gt8]</td>\n",
       "    </tr>\n",
       "    <tr>\n",
       "      <th>14</th>\n",
       "      <td>offer expiration</td>\n",
       "      <td>[2days, 10hours]</td>\n",
       "    </tr>\n",
       "    <tr>\n",
       "      <th>15</th>\n",
       "      <td>restaurant type</td>\n",
       "      <td>[4 star restaurant, Take-away restaurant, Cold...</td>\n",
       "    </tr>\n",
       "  </tbody>\n",
       "</table>\n",
       "</div>"
      ],
      "text/plain": [
       "                        features  \\\n",
       "0                        Climate   \n",
       "1                  Customer type   \n",
       "2               Job/Job Industry   \n",
       "3                 Marital Status   \n",
       "4                  Qualification   \n",
       "5   Restaur_spend_greater_than20   \n",
       "6      Restaur_spend_less_than20   \n",
       "7                            age   \n",
       "8                  drop location   \n",
       "9                         gender   \n",
       "10                  income_range   \n",
       "11                 no_Take-aways   \n",
       "12        no_visited_Cold drinks   \n",
       "13               no_visited_bars   \n",
       "14              offer expiration   \n",
       "15               restaurant type   \n",
       "\n",
       "                                        unique values  \n",
       "0                            [Spring, Summer, Winter]  \n",
       "1   [Individual, With Family, With Kids, With Coll...  \n",
       "2   [Unemployed, Arts Design Entertainment Sports ...  \n",
       "3   [Married partner, Single, Divorced, Unmarried ...  \n",
       "4   [Bachelors degree, Some college - no degree, G...  \n",
       "5                       [less1, 1~3, never, gt8, 4~8]  \n",
       "6                       [less1, 4~8, 1~3, gt8, never]  \n",
       "7           [36, 50plus, 26, 46, 21, below21, 41, 31]  \n",
       "8                [Location B, Location A, Location C]  \n",
       "9                                      [Female, Male]  \n",
       "10  [₹100000 or More, ₹87500 - ₹99999, ₹37500 - ₹4...  \n",
       "11                      [1~3, gt8, 4~8, less1, never]  \n",
       "12                      [4~8, less1, never, 1~3, gt8]  \n",
       "13                      [less1, never, 1~3, 4~8, gt8]  \n",
       "14                                   [2days, 10hours]  \n",
       "15  [4 star restaurant, Take-away restaurant, Cold...  "
      ]
     },
     "execution_count": 19,
     "metadata": {},
     "output_type": "execute_result"
    }
   ],
   "source": [
    "# checking unique values to separate ordinal and nominal features\n",
    "\n",
    "unique"
   ]
  },
  {
   "cell_type": "markdown",
   "id": "7c1c4239",
   "metadata": {
    "papermill": {
     "duration": 0.009653,
     "end_time": "2022-12-01T13:03:54.096456",
     "exception": false,
     "start_time": "2022-12-01T13:03:54.086803",
     "status": "completed"
    },
    "tags": []
   },
   "source": [
    "**From above, we separate ordinal features for OrdinalEncoder and nominal features for OneHotEncoder**\n",
    "\n",
    "    Indices for \n",
    "        Ordinal = 4, 5, 6, 7, 10, 11, 12, 13, 14"
   ]
  },
  {
   "cell_type": "code",
   "execution_count": 20,
   "id": "049eae34",
   "metadata": {
    "execution": {
     "iopub.execute_input": "2022-12-01T13:03:54.119892Z",
     "iopub.status.busy": "2022-12-01T13:03:54.119139Z",
     "iopub.status.idle": "2022-12-01T13:03:54.126968Z",
     "shell.execute_reply": "2022-12-01T13:03:54.125724Z"
    },
    "papermill": {
     "duration": 0.022007,
     "end_time": "2022-12-01T13:03:54.129570",
     "exception": false,
     "start_time": "2022-12-01T13:03:54.107563",
     "status": "completed"
    },
    "tags": []
   },
   "outputs": [
    {
     "name": "stdout",
     "output_type": "stream",
     "text": [
      "9 7 ['Qualification', 'Restaur_spend_greater_than20', 'Restaur_spend_less_than20', 'age', 'income_range', 'no_Take-aways', 'no_visited_Cold drinks', 'no_visited_bars', 'offer expiration']\n"
     ]
    }
   ],
   "source": [
    "ordinal = [(sorted(categorical))[i] for i in [4, 5, 6, 7, 10, 11, 12, 13, 14]]\n",
    "nominal = [i for i in categorical if i not in ordinal]\n",
    "\n",
    "print(len(ordinal), len(nominal), ordinal)"
   ]
  },
  {
   "cell_type": "code",
   "execution_count": 21,
   "id": "b8439ffa",
   "metadata": {
    "execution": {
     "iopub.execute_input": "2022-12-01T13:03:54.152547Z",
     "iopub.status.busy": "2022-12-01T13:03:54.151949Z",
     "iopub.status.idle": "2022-12-01T13:03:54.164282Z",
     "shell.execute_reply": "2022-12-01T13:03:54.163060Z"
    },
    "papermill": {
     "duration": 0.026496,
     "end_time": "2022-12-01T13:03:54.166994",
     "exception": false,
     "start_time": "2022-12-01T13:03:54.140498",
     "status": "completed"
    },
    "tags": []
   },
   "outputs": [
    {
     "name": "stdout",
     "output_type": "stream",
     "text": [
      "unique values in nominal features = 47\n"
     ]
    }
   ],
   "source": [
    "count = 0\n",
    "for i in nominal:\n",
    "    count += len(x_train[i].unique())\n",
    "\n",
    "print(\"unique values in nominal features =\", count)"
   ]
  },
  {
   "cell_type": "markdown",
   "id": "6ab99ab9",
   "metadata": {
    "papermill": {
     "duration": 0.009966,
     "end_time": "2022-12-01T13:03:54.188463",
     "exception": false,
     "start_time": "2022-12-01T13:03:54.178497",
     "status": "completed"
    },
    "tags": []
   },
   "source": [
    "**47 unique columns from nominal features and 9 from ordinal features should finally give us 56 columns for categorical features**"
   ]
  },
  {
   "cell_type": "code",
   "execution_count": 22,
   "id": "e056d954",
   "metadata": {
    "execution": {
     "iopub.execute_input": "2022-12-01T13:03:54.210990Z",
     "iopub.status.busy": "2022-12-01T13:03:54.209864Z",
     "iopub.status.idle": "2022-12-01T13:03:54.232765Z",
     "shell.execute_reply": "2022-12-01T13:03:54.232081Z"
    },
    "papermill": {
     "duration": 0.036852,
     "end_time": "2022-12-01T13:03:54.235533",
     "exception": false,
     "start_time": "2022-12-01T13:03:54.198681",
     "status": "completed"
    },
    "tags": []
   },
   "outputs": [
    {
     "data": {
      "text/html": [
       "<div>\n",
       "<style scoped>\n",
       "    .dataframe tbody tr th:only-of-type {\n",
       "        vertical-align: middle;\n",
       "    }\n",
       "\n",
       "    .dataframe tbody tr th {\n",
       "        vertical-align: top;\n",
       "    }\n",
       "\n",
       "    .dataframe thead th {\n",
       "        text-align: right;\n",
       "    }\n",
       "</style>\n",
       "<table border=\"1\" class=\"dataframe\">\n",
       "  <thead>\n",
       "    <tr style=\"text-align: right;\">\n",
       "      <th></th>\n",
       "      <th>features</th>\n",
       "      <th>unique values</th>\n",
       "    </tr>\n",
       "  </thead>\n",
       "  <tbody>\n",
       "    <tr>\n",
       "      <th>0</th>\n",
       "      <td>Qualification</td>\n",
       "      <td>[Bachelors degree, Some college - no degree, G...</td>\n",
       "    </tr>\n",
       "    <tr>\n",
       "      <th>1</th>\n",
       "      <td>Restaur_spend_greater_than20</td>\n",
       "      <td>[less1, 1~3, never, gt8, 4~8]</td>\n",
       "    </tr>\n",
       "    <tr>\n",
       "      <th>2</th>\n",
       "      <td>Restaur_spend_less_than20</td>\n",
       "      <td>[less1, 4~8, 1~3, gt8, never]</td>\n",
       "    </tr>\n",
       "    <tr>\n",
       "      <th>3</th>\n",
       "      <td>age</td>\n",
       "      <td>[21to50, 50plus, below21]</td>\n",
       "    </tr>\n",
       "    <tr>\n",
       "      <th>4</th>\n",
       "      <td>income_range</td>\n",
       "      <td>[₹100000 or More, ₹87500 - ₹99999, ₹37500 - ₹4...</td>\n",
       "    </tr>\n",
       "    <tr>\n",
       "      <th>5</th>\n",
       "      <td>no_Take-aways</td>\n",
       "      <td>[1~3, gt8, 4~8, less1, never]</td>\n",
       "    </tr>\n",
       "    <tr>\n",
       "      <th>6</th>\n",
       "      <td>no_visited_Cold drinks</td>\n",
       "      <td>[4~8, less1, never, 1~3, gt8]</td>\n",
       "    </tr>\n",
       "    <tr>\n",
       "      <th>7</th>\n",
       "      <td>no_visited_bars</td>\n",
       "      <td>[less1, never, 1~3, 4~8, gt8]</td>\n",
       "    </tr>\n",
       "    <tr>\n",
       "      <th>8</th>\n",
       "      <td>offer expiration</td>\n",
       "      <td>[2days, 10hours]</td>\n",
       "    </tr>\n",
       "  </tbody>\n",
       "</table>\n",
       "</div>"
      ],
      "text/plain": [
       "                       features  \\\n",
       "0                 Qualification   \n",
       "1  Restaur_spend_greater_than20   \n",
       "2     Restaur_spend_less_than20   \n",
       "3                           age   \n",
       "4                  income_range   \n",
       "5                 no_Take-aways   \n",
       "6        no_visited_Cold drinks   \n",
       "7               no_visited_bars   \n",
       "8              offer expiration   \n",
       "\n",
       "                                       unique values  \n",
       "0  [Bachelors degree, Some college - no degree, G...  \n",
       "1                      [less1, 1~3, never, gt8, 4~8]  \n",
       "2                      [less1, 4~8, 1~3, gt8, never]  \n",
       "3                          [21to50, 50plus, below21]  \n",
       "4  [₹100000 or More, ₹87500 - ₹99999, ₹37500 - ₹4...  \n",
       "5                      [1~3, gt8, 4~8, less1, never]  \n",
       "6                      [4~8, less1, never, 1~3, gt8]  \n",
       "7                      [less1, never, 1~3, 4~8, gt8]  \n",
       "8                                   [2days, 10hours]  "
      ]
     },
     "execution_count": 22,
     "metadata": {},
     "output_type": "execute_result"
    }
   ],
   "source": [
    "unique = {}\n",
    "for i in ordinal:\n",
    "    unique[i] = x_train[i].unique()\n",
    "pd.DataFrame(unique.items(), columns=['features', 'unique values'])"
   ]
  },
  {
   "cell_type": "markdown",
   "id": "d209314a",
   "metadata": {
    "papermill": {
     "duration": 0.009721,
     "end_time": "2022-12-01T13:03:54.255819",
     "exception": false,
     "start_time": "2022-12-01T13:03:54.246098",
     "status": "completed"
    },
    "tags": []
   },
   "source": [
    "**Specifying categories for ordinal features for OrdinalEncoding**"
   ]
  },
  {
   "cell_type": "code",
   "execution_count": 23,
   "id": "76c0459a",
   "metadata": {
    "execution": {
     "iopub.execute_input": "2022-12-01T13:03:54.279493Z",
     "iopub.status.busy": "2022-12-01T13:03:54.279137Z",
     "iopub.status.idle": "2022-12-01T13:03:54.286165Z",
     "shell.execute_reply": "2022-12-01T13:03:54.285153Z"
    },
    "papermill": {
     "duration": 0.021177,
     "end_time": "2022-12-01T13:03:54.287822",
     "exception": false,
     "start_time": "2022-12-01T13:03:54.266645",
     "status": "completed"
    },
    "tags": []
   },
   "outputs": [],
   "source": [
    "category = {\n",
    "    'income_range': ['Less than ₹12500', '₹12500 - ₹24999', '₹25000 - ₹37499', '₹37500 - ₹49999', '₹50000 - ₹62499', '₹62500 - ₹74999', '₹75000 - ₹87499', '₹87500 - ₹99999', '₹100000 or More'],\n",
    "    'Restaur_spend_greater_than20': ['never', 'less1', '1~3', '4~8', 'gt8'],\n",
    "    'no_visited_Cold drinks': ['never', 'less1', '1~3', '4~8', 'gt8'],\n",
    "    'Restaur_spend_less_than20': ['never', 'less1', '1~3', '4~8', 'gt8'], \n",
    "    'age': ['below21', '21to50', '50plus'],\n",
    "    'no_visited_bars': ['never', 'less1', '1~3', '4~8', 'gt8'],\n",
    "    'no_Take-aways' : ['never', 'less1', '1~3', '4~8', 'gt8'],\n",
    "    'Qualification' : ['Some High School', 'High School Graduate', 'Associates degree', 'Some college - no degree', 'Bachelors degree', 'Graduate degree (Masters or Doctorate)'],\n",
    "    'offer expiration': ['2days', '10hours']\n",
    "}"
   ]
  },
  {
   "cell_type": "markdown",
   "id": "587edca3",
   "metadata": {
    "execution": {
     "iopub.execute_input": "2022-11-29T05:43:52.020461Z",
     "iopub.status.busy": "2022-11-29T05:43:52.020110Z",
     "iopub.status.idle": "2022-11-29T05:43:52.074455Z",
     "shell.execute_reply": "2022-11-29T05:43:52.073335Z",
     "shell.execute_reply.started": "2022-11-29T05:43:52.020437Z"
    },
    "papermill": {
     "duration": 0.009753,
     "end_time": "2022-12-01T13:03:54.307909",
     "exception": false,
     "start_time": "2022-12-01T13:03:54.298156",
     "status": "completed"
    },
    "tags": []
   },
   "source": [
    "## ColumnTransformer"
   ]
  },
  {
   "cell_type": "markdown",
   "id": "b92bbf2e",
   "metadata": {
    "papermill": {
     "duration": 0.009742,
     "end_time": "2022-12-01T13:03:54.327532",
     "exception": false,
     "start_time": "2022-12-01T13:03:54.317790",
     "status": "completed"
    },
    "tags": []
   },
   "source": [
    "**Combining categorical encoders and numerical scalers in ColumnTransformer**"
   ]
  },
  {
   "cell_type": "code",
   "execution_count": 24,
   "id": "9ed70ba9",
   "metadata": {
    "execution": {
     "iopub.execute_input": "2022-12-01T13:03:54.349364Z",
     "iopub.status.busy": "2022-12-01T13:03:54.348822Z",
     "iopub.status.idle": "2022-12-01T13:03:54.358964Z",
     "shell.execute_reply": "2022-12-01T13:03:54.358326Z"
    },
    "papermill": {
     "duration": 0.023242,
     "end_time": "2022-12-01T13:03:54.360708",
     "exception": false,
     "start_time": "2022-12-01T13:03:54.337466",
     "status": "completed"
    },
    "tags": []
   },
   "outputs": [],
   "source": [
    "from sklearn.preprocessing import OrdinalEncoder, OneHotEncoder\n",
    "from sklearn.preprocessing import MinMaxScaler, StandardScaler\n",
    "from sklearn.preprocessing import LabelEncoder\n",
    "from sklearn.compose import ColumnTransformer"
   ]
  },
  {
   "cell_type": "code",
   "execution_count": 25,
   "id": "aed8cf8e",
   "metadata": {
    "execution": {
     "iopub.execute_input": "2022-12-01T13:03:54.383267Z",
     "iopub.status.busy": "2022-12-01T13:03:54.382750Z",
     "iopub.status.idle": "2022-12-01T13:03:54.387596Z",
     "shell.execute_reply": "2022-12-01T13:03:54.387038Z"
    },
    "papermill": {
     "duration": 0.017444,
     "end_time": "2022-12-01T13:03:54.389085",
     "exception": false,
     "start_time": "2022-12-01T13:03:54.371641",
     "status": "completed"
    },
    "tags": []
   },
   "outputs": [
    {
     "data": {
      "text/plain": [
       "True"
      ]
     },
     "execution_count": 25,
     "metadata": {},
     "output_type": "execute_result"
    }
   ],
   "source": [
    "# checking if total columns match before we add new ones\n",
    "len(x_train.columns) == len(ordinal) + len(nominal) + len(numerical)"
   ]
  },
  {
   "cell_type": "code",
   "execution_count": 26,
   "id": "20633bc0",
   "metadata": {
    "execution": {
     "iopub.execute_input": "2022-12-01T13:03:54.411556Z",
     "iopub.status.busy": "2022-12-01T13:03:54.410621Z",
     "iopub.status.idle": "2022-12-01T13:03:54.542794Z",
     "shell.execute_reply": "2022-12-01T13:03:54.541947Z"
    },
    "papermill": {
     "duration": 0.1454,
     "end_time": "2022-12-01T13:03:54.544729",
     "exception": false,
     "start_time": "2022-12-01T13:03:54.399329",
     "status": "completed"
    },
    "tags": []
   },
   "outputs": [
    {
     "data": {
      "text/html": [
       "<div>\n",
       "<style scoped>\n",
       "    .dataframe tbody tr th:only-of-type {\n",
       "        vertical-align: middle;\n",
       "    }\n",
       "\n",
       "    .dataframe tbody tr th {\n",
       "        vertical-align: top;\n",
       "    }\n",
       "\n",
       "    .dataframe thead th {\n",
       "        text-align: right;\n",
       "    }\n",
       "</style>\n",
       "<table border=\"1\" class=\"dataframe\">\n",
       "  <thead>\n",
       "    <tr style=\"text-align: right;\">\n",
       "      <th></th>\n",
       "      <th>0</th>\n",
       "      <th>1</th>\n",
       "      <th>2</th>\n",
       "      <th>3</th>\n",
       "      <th>4</th>\n",
       "      <th>5</th>\n",
       "      <th>6</th>\n",
       "      <th>7</th>\n",
       "      <th>8</th>\n",
       "      <th>9</th>\n",
       "      <th>...</th>\n",
       "      <th>58</th>\n",
       "      <th>59</th>\n",
       "      <th>60</th>\n",
       "      <th>61</th>\n",
       "      <th>62</th>\n",
       "      <th>63</th>\n",
       "      <th>64</th>\n",
       "      <th>65</th>\n",
       "      <th>66</th>\n",
       "      <th>67</th>\n",
       "    </tr>\n",
       "  </thead>\n",
       "  <tbody>\n",
       "    <tr>\n",
       "      <th>0</th>\n",
       "      <td>8.0</td>\n",
       "      <td>1.0</td>\n",
       "      <td>3.0</td>\n",
       "      <td>1.0</td>\n",
       "      <td>1.0</td>\n",
       "      <td>1.0</td>\n",
       "      <td>2.0</td>\n",
       "      <td>4.0</td>\n",
       "      <td>0.0</td>\n",
       "      <td>0.0</td>\n",
       "      <td>...</td>\n",
       "      <td>0.0</td>\n",
       "      <td>0.0</td>\n",
       "      <td>1.0</td>\n",
       "      <td>0.0</td>\n",
       "      <td>0.0</td>\n",
       "      <td>0.0</td>\n",
       "      <td>1.00</td>\n",
       "      <td>0.55102</td>\n",
       "      <td>1.000000</td>\n",
       "      <td>0.0</td>\n",
       "    </tr>\n",
       "    <tr>\n",
       "      <th>1</th>\n",
       "      <td>7.0</td>\n",
       "      <td>2.0</td>\n",
       "      <td>3.0</td>\n",
       "      <td>3.0</td>\n",
       "      <td>2.0</td>\n",
       "      <td>0.0</td>\n",
       "      <td>2.0</td>\n",
       "      <td>4.0</td>\n",
       "      <td>0.0</td>\n",
       "      <td>0.0</td>\n",
       "      <td>...</td>\n",
       "      <td>0.0</td>\n",
       "      <td>1.0</td>\n",
       "      <td>1.0</td>\n",
       "      <td>0.0</td>\n",
       "      <td>0.0</td>\n",
       "      <td>1.0</td>\n",
       "      <td>0.75</td>\n",
       "      <td>1.00000</td>\n",
       "      <td>0.733333</td>\n",
       "      <td>0.0</td>\n",
       "    </tr>\n",
       "    <tr>\n",
       "      <th>2</th>\n",
       "      <td>7.0</td>\n",
       "      <td>1.0</td>\n",
       "      <td>1.0</td>\n",
       "      <td>2.0</td>\n",
       "      <td>1.0</td>\n",
       "      <td>0.0</td>\n",
       "      <td>2.0</td>\n",
       "      <td>4.0</td>\n",
       "      <td>0.0</td>\n",
       "      <td>0.0</td>\n",
       "      <td>...</td>\n",
       "      <td>0.0</td>\n",
       "      <td>1.0</td>\n",
       "      <td>0.0</td>\n",
       "      <td>1.0</td>\n",
       "      <td>1.0</td>\n",
       "      <td>1.0</td>\n",
       "      <td>1.00</td>\n",
       "      <td>0.55102</td>\n",
       "      <td>0.000000</td>\n",
       "      <td>1.0</td>\n",
       "    </tr>\n",
       "    <tr>\n",
       "      <th>3</th>\n",
       "      <td>3.0</td>\n",
       "      <td>2.0</td>\n",
       "      <td>1.0</td>\n",
       "      <td>2.0</td>\n",
       "      <td>1.0</td>\n",
       "      <td>0.0</td>\n",
       "      <td>2.0</td>\n",
       "      <td>3.0</td>\n",
       "      <td>1.0</td>\n",
       "      <td>0.0</td>\n",
       "      <td>...</td>\n",
       "      <td>0.0</td>\n",
       "      <td>1.0</td>\n",
       "      <td>0.0</td>\n",
       "      <td>1.0</td>\n",
       "      <td>0.0</td>\n",
       "      <td>1.0</td>\n",
       "      <td>0.75</td>\n",
       "      <td>1.00000</td>\n",
       "      <td>0.000000</td>\n",
       "      <td>0.0</td>\n",
       "    </tr>\n",
       "    <tr>\n",
       "      <th>4</th>\n",
       "      <td>8.0</td>\n",
       "      <td>1.0</td>\n",
       "      <td>0.0</td>\n",
       "      <td>2.0</td>\n",
       "      <td>1.0</td>\n",
       "      <td>1.0</td>\n",
       "      <td>4.0</td>\n",
       "      <td>3.0</td>\n",
       "      <td>0.0</td>\n",
       "      <td>0.0</td>\n",
       "      <td>...</td>\n",
       "      <td>1.0</td>\n",
       "      <td>0.0</td>\n",
       "      <td>0.0</td>\n",
       "      <td>1.0</td>\n",
       "      <td>1.0</td>\n",
       "      <td>0.0</td>\n",
       "      <td>0.75</td>\n",
       "      <td>0.00000</td>\n",
       "      <td>0.000000</td>\n",
       "      <td>0.0</td>\n",
       "    </tr>\n",
       "  </tbody>\n",
       "</table>\n",
       "<p>5 rows × 68 columns</p>\n",
       "</div>"
      ],
      "text/plain": [
       "    0    1    2    3    4    5    6    7    8    9   ...   58   59   60   61  \\\n",
       "0  8.0  1.0  3.0  1.0  1.0  1.0  2.0  4.0  0.0  0.0  ...  0.0  0.0  1.0  0.0   \n",
       "1  7.0  2.0  3.0  3.0  2.0  0.0  2.0  4.0  0.0  0.0  ...  0.0  1.0  1.0  0.0   \n",
       "2  7.0  1.0  1.0  2.0  1.0  0.0  2.0  4.0  0.0  0.0  ...  0.0  1.0  0.0  1.0   \n",
       "3  3.0  2.0  1.0  2.0  1.0  0.0  2.0  3.0  1.0  0.0  ...  0.0  1.0  0.0  1.0   \n",
       "4  8.0  1.0  0.0  2.0  1.0  1.0  4.0  3.0  0.0  0.0  ...  1.0  0.0  0.0  1.0   \n",
       "\n",
       "    62   63    64       65        66   67  \n",
       "0  0.0  0.0  1.00  0.55102  1.000000  0.0  \n",
       "1  0.0  1.0  0.75  1.00000  0.733333  0.0  \n",
       "2  1.0  1.0  1.00  0.55102  0.000000  1.0  \n",
       "3  0.0  1.0  0.75  1.00000  0.000000  0.0  \n",
       "4  1.0  0.0  0.75  0.00000  0.000000  0.0  \n",
       "\n",
       "[5 rows x 68 columns]"
      ]
     },
     "execution_count": 26,
     "metadata": {},
     "output_type": "execute_result"
    }
   ],
   "source": [
    "feature = list(category.keys())\n",
    "cols = list(category.values())\n",
    "\n",
    "ct = ColumnTransformer([\n",
    "    (\"ordenc\", OrdinalEncoder(categories=[i for i in cols]), [j for j in feature]),\n",
    "    (\"onehotenc\", OneHotEncoder(), [j for j in nominal]),\n",
    "    (\"minmax\", MinMaxScaler(), [j for j in numerical])\n",
    "], sparse_threshold=0)\n",
    "\n",
    "# instead of sparse_threshold, alt we can use sparse=False in OneHotEncoder\n",
    "\n",
    "x_train = pd.DataFrame(ct.fit_transform(x_train))\n",
    "x_test = pd.DataFrame(ct.fit_transform(x_test))\n",
    "x_train.head()"
   ]
  },
  {
   "cell_type": "code",
   "execution_count": 27,
   "id": "4ed1fdf2",
   "metadata": {
    "execution": {
     "iopub.execute_input": "2022-12-01T13:03:54.566622Z",
     "iopub.status.busy": "2022-12-01T13:03:54.566309Z",
     "iopub.status.idle": "2022-12-01T13:03:54.576807Z",
     "shell.execute_reply": "2022-12-01T13:03:54.575747Z"
    },
    "papermill": {
     "duration": 0.023513,
     "end_time": "2022-12-01T13:03:54.578736",
     "exception": false,
     "start_time": "2022-12-01T13:03:54.555223",
     "status": "completed"
    },
    "tags": []
   },
   "outputs": [
    {
     "data": {
      "text/plain": [
       "1    6994\n",
       "0    5385\n",
       "dtype: int64"
      ]
     },
     "execution_count": 27,
     "metadata": {},
     "output_type": "execute_result"
    }
   ],
   "source": [
    "y_train = pd.Series(LabelEncoder().fit_transform(y_train))\n",
    "y_train.value_counts()"
   ]
  },
  {
   "cell_type": "markdown",
   "id": "caa8c7bc",
   "metadata": {
    "papermill": {
     "duration": 0.010177,
     "end_time": "2022-12-01T13:03:54.599822",
     "exception": false,
     "start_time": "2022-12-01T13:03:54.589645",
     "status": "completed"
    },
    "tags": []
   },
   "source": [
    "## Summary\n",
    "\n",
    "    Loaded data\n",
    "    Separated features and labels\n",
    "    Dropped columns like empty, single valued, etc.\n",
    "    Imputed missing values (only in categorical in this data)\n",
    "    Listed ordinal, nominal and numerical features\n",
    "    Applied OrdinalEncoder and OneHotEncoder for ordinal and nominal features respectively\n",
    "    Scaled Numerical features using MinMaxScaler (alt. StandardScaler)\n",
    "    Encoded labels using LabelEncoder\n",
    "    Simultaneously pre-processed train and test data to avoid errors"
   ]
  },
  {
   "cell_type": "markdown",
   "id": "9f97ceb3",
   "metadata": {
    "papermill": {
     "duration": 0.010283,
     "end_time": "2022-12-01T13:03:54.620530",
     "exception": false,
     "start_time": "2022-12-01T13:03:54.610247",
     "status": "completed"
    },
    "tags": []
   },
   "source": [
    "# Phase 2\n",
    "# Model selection"
   ]
  },
  {
   "cell_type": "code",
   "execution_count": null,
   "id": "964eeed6",
   "metadata": {
    "papermill": {
     "duration": 0.010249,
     "end_time": "2022-12-01T13:03:54.641401",
     "exception": false,
     "start_time": "2022-12-01T13:03:54.631152",
     "status": "completed"
    },
    "tags": []
   },
   "outputs": [],
   "source": []
  }
 ],
 "metadata": {
  "kernelspec": {
   "display_name": "Python 3",
   "language": "python",
   "name": "python3"
  },
  "language_info": {
   "codemirror_mode": {
    "name": "ipython",
    "version": 3
   },
   "file_extension": ".py",
   "mimetype": "text/x-python",
   "name": "python",
   "nbconvert_exporter": "python",
   "pygments_lexer": "ipython3",
   "version": "3.7.12"
  },
  "papermill": {
   "default_parameters": {},
   "duration": 18.223122,
   "end_time": "2022-12-01T13:03:55.271538",
   "environment_variables": {},
   "exception": null,
   "input_path": "__notebook__.ipynb",
   "output_path": "__notebook__.ipynb",
   "parameters": {},
   "start_time": "2022-12-01T13:03:37.048416",
   "version": "2.3.4"
  }
 },
 "nbformat": 4,
 "nbformat_minor": 5
}
